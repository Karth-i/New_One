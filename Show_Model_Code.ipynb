{
  "nbformat": 4,
  "nbformat_minor": 0,
  "metadata": {
    "colab": {
      "provenance": []
    },
    "kernelspec": {
      "name": "python3",
      "display_name": "Python 3"
    },
    "language_info": {
      "name": "python"
    },
    "widgets": {
      "application/vnd.jupyter.widget-state+json": {
        "341a12bec4d24fc2a760feb78a5a2507": {
          "model_module": "@jupyter-widgets/controls",
          "model_name": "HBoxModel",
          "model_module_version": "1.5.0",
          "state": {
            "_dom_classes": [],
            "_model_module": "@jupyter-widgets/controls",
            "_model_module_version": "1.5.0",
            "_model_name": "HBoxModel",
            "_view_count": null,
            "_view_module": "@jupyter-widgets/controls",
            "_view_module_version": "1.5.0",
            "_view_name": "HBoxView",
            "box_style": "",
            "children": [
              "IPY_MODEL_c6df3c6a0ca4425e9aaa12b8b0bda805",
              "IPY_MODEL_ae813149d5fb43a488d5dde88e16c5e9",
              "IPY_MODEL_f4eadd69880644e88f99109147c68adf"
            ],
            "layout": "IPY_MODEL_babef4f2b0ff42f18a47010a1ff34ba8"
          }
        },
        "c6df3c6a0ca4425e9aaa12b8b0bda805": {
          "model_module": "@jupyter-widgets/controls",
          "model_name": "HTMLModel",
          "model_module_version": "1.5.0",
          "state": {
            "_dom_classes": [],
            "_model_module": "@jupyter-widgets/controls",
            "_model_module_version": "1.5.0",
            "_model_name": "HTMLModel",
            "_view_count": null,
            "_view_module": "@jupyter-widgets/controls",
            "_view_module_version": "1.5.0",
            "_view_name": "HTMLView",
            "description": "",
            "description_tooltip": null,
            "layout": "IPY_MODEL_93150b6a1c0a483abaeb9210b6440a17",
            "placeholder": "​",
            "style": "IPY_MODEL_48546af653474553ab38e5ae692486a5",
            "value": "tokenizer_config.json: 100%"
          }
        },
        "ae813149d5fb43a488d5dde88e16c5e9": {
          "model_module": "@jupyter-widgets/controls",
          "model_name": "FloatProgressModel",
          "model_module_version": "1.5.0",
          "state": {
            "_dom_classes": [],
            "_model_module": "@jupyter-widgets/controls",
            "_model_module_version": "1.5.0",
            "_model_name": "FloatProgressModel",
            "_view_count": null,
            "_view_module": "@jupyter-widgets/controls",
            "_view_module_version": "1.5.0",
            "_view_name": "ProgressView",
            "bar_style": "success",
            "description": "",
            "description_tooltip": null,
            "layout": "IPY_MODEL_48ce6d792c224ad5845a03d820d828aa",
            "max": 25,
            "min": 0,
            "orientation": "horizontal",
            "style": "IPY_MODEL_020fe674ab1e45d990c3a9312ccc9420",
            "value": 25
          }
        },
        "f4eadd69880644e88f99109147c68adf": {
          "model_module": "@jupyter-widgets/controls",
          "model_name": "HTMLModel",
          "model_module_version": "1.5.0",
          "state": {
            "_dom_classes": [],
            "_model_module": "@jupyter-widgets/controls",
            "_model_module_version": "1.5.0",
            "_model_name": "HTMLModel",
            "_view_count": null,
            "_view_module": "@jupyter-widgets/controls",
            "_view_module_version": "1.5.0",
            "_view_name": "HTMLView",
            "description": "",
            "description_tooltip": null,
            "layout": "IPY_MODEL_41deba30bee54f3c8ece3a963b195656",
            "placeholder": "​",
            "style": "IPY_MODEL_ff62f41d7a194448847908e2531019b4",
            "value": " 25.0/25.0 [00:00&lt;00:00, 1.60kB/s]"
          }
        },
        "babef4f2b0ff42f18a47010a1ff34ba8": {
          "model_module": "@jupyter-widgets/base",
          "model_name": "LayoutModel",
          "model_module_version": "1.2.0",
          "state": {
            "_model_module": "@jupyter-widgets/base",
            "_model_module_version": "1.2.0",
            "_model_name": "LayoutModel",
            "_view_count": null,
            "_view_module": "@jupyter-widgets/base",
            "_view_module_version": "1.2.0",
            "_view_name": "LayoutView",
            "align_content": null,
            "align_items": null,
            "align_self": null,
            "border": null,
            "bottom": null,
            "display": null,
            "flex": null,
            "flex_flow": null,
            "grid_area": null,
            "grid_auto_columns": null,
            "grid_auto_flow": null,
            "grid_auto_rows": null,
            "grid_column": null,
            "grid_gap": null,
            "grid_row": null,
            "grid_template_areas": null,
            "grid_template_columns": null,
            "grid_template_rows": null,
            "height": null,
            "justify_content": null,
            "justify_items": null,
            "left": null,
            "margin": null,
            "max_height": null,
            "max_width": null,
            "min_height": null,
            "min_width": null,
            "object_fit": null,
            "object_position": null,
            "order": null,
            "overflow": null,
            "overflow_x": null,
            "overflow_y": null,
            "padding": null,
            "right": null,
            "top": null,
            "visibility": null,
            "width": null
          }
        },
        "93150b6a1c0a483abaeb9210b6440a17": {
          "model_module": "@jupyter-widgets/base",
          "model_name": "LayoutModel",
          "model_module_version": "1.2.0",
          "state": {
            "_model_module": "@jupyter-widgets/base",
            "_model_module_version": "1.2.0",
            "_model_name": "LayoutModel",
            "_view_count": null,
            "_view_module": "@jupyter-widgets/base",
            "_view_module_version": "1.2.0",
            "_view_name": "LayoutView",
            "align_content": null,
            "align_items": null,
            "align_self": null,
            "border": null,
            "bottom": null,
            "display": null,
            "flex": null,
            "flex_flow": null,
            "grid_area": null,
            "grid_auto_columns": null,
            "grid_auto_flow": null,
            "grid_auto_rows": null,
            "grid_column": null,
            "grid_gap": null,
            "grid_row": null,
            "grid_template_areas": null,
            "grid_template_columns": null,
            "grid_template_rows": null,
            "height": null,
            "justify_content": null,
            "justify_items": null,
            "left": null,
            "margin": null,
            "max_height": null,
            "max_width": null,
            "min_height": null,
            "min_width": null,
            "object_fit": null,
            "object_position": null,
            "order": null,
            "overflow": null,
            "overflow_x": null,
            "overflow_y": null,
            "padding": null,
            "right": null,
            "top": null,
            "visibility": null,
            "width": null
          }
        },
        "48546af653474553ab38e5ae692486a5": {
          "model_module": "@jupyter-widgets/controls",
          "model_name": "DescriptionStyleModel",
          "model_module_version": "1.5.0",
          "state": {
            "_model_module": "@jupyter-widgets/controls",
            "_model_module_version": "1.5.0",
            "_model_name": "DescriptionStyleModel",
            "_view_count": null,
            "_view_module": "@jupyter-widgets/base",
            "_view_module_version": "1.2.0",
            "_view_name": "StyleView",
            "description_width": ""
          }
        },
        "48ce6d792c224ad5845a03d820d828aa": {
          "model_module": "@jupyter-widgets/base",
          "model_name": "LayoutModel",
          "model_module_version": "1.2.0",
          "state": {
            "_model_module": "@jupyter-widgets/base",
            "_model_module_version": "1.2.0",
            "_model_name": "LayoutModel",
            "_view_count": null,
            "_view_module": "@jupyter-widgets/base",
            "_view_module_version": "1.2.0",
            "_view_name": "LayoutView",
            "align_content": null,
            "align_items": null,
            "align_self": null,
            "border": null,
            "bottom": null,
            "display": null,
            "flex": null,
            "flex_flow": null,
            "grid_area": null,
            "grid_auto_columns": null,
            "grid_auto_flow": null,
            "grid_auto_rows": null,
            "grid_column": null,
            "grid_gap": null,
            "grid_row": null,
            "grid_template_areas": null,
            "grid_template_columns": null,
            "grid_template_rows": null,
            "height": null,
            "justify_content": null,
            "justify_items": null,
            "left": null,
            "margin": null,
            "max_height": null,
            "max_width": null,
            "min_height": null,
            "min_width": null,
            "object_fit": null,
            "object_position": null,
            "order": null,
            "overflow": null,
            "overflow_x": null,
            "overflow_y": null,
            "padding": null,
            "right": null,
            "top": null,
            "visibility": null,
            "width": null
          }
        },
        "020fe674ab1e45d990c3a9312ccc9420": {
          "model_module": "@jupyter-widgets/controls",
          "model_name": "ProgressStyleModel",
          "model_module_version": "1.5.0",
          "state": {
            "_model_module": "@jupyter-widgets/controls",
            "_model_module_version": "1.5.0",
            "_model_name": "ProgressStyleModel",
            "_view_count": null,
            "_view_module": "@jupyter-widgets/base",
            "_view_module_version": "1.2.0",
            "_view_name": "StyleView",
            "bar_color": null,
            "description_width": ""
          }
        },
        "41deba30bee54f3c8ece3a963b195656": {
          "model_module": "@jupyter-widgets/base",
          "model_name": "LayoutModel",
          "model_module_version": "1.2.0",
          "state": {
            "_model_module": "@jupyter-widgets/base",
            "_model_module_version": "1.2.0",
            "_model_name": "LayoutModel",
            "_view_count": null,
            "_view_module": "@jupyter-widgets/base",
            "_view_module_version": "1.2.0",
            "_view_name": "LayoutView",
            "align_content": null,
            "align_items": null,
            "align_self": null,
            "border": null,
            "bottom": null,
            "display": null,
            "flex": null,
            "flex_flow": null,
            "grid_area": null,
            "grid_auto_columns": null,
            "grid_auto_flow": null,
            "grid_auto_rows": null,
            "grid_column": null,
            "grid_gap": null,
            "grid_row": null,
            "grid_template_areas": null,
            "grid_template_columns": null,
            "grid_template_rows": null,
            "height": null,
            "justify_content": null,
            "justify_items": null,
            "left": null,
            "margin": null,
            "max_height": null,
            "max_width": null,
            "min_height": null,
            "min_width": null,
            "object_fit": null,
            "object_position": null,
            "order": null,
            "overflow": null,
            "overflow_x": null,
            "overflow_y": null,
            "padding": null,
            "right": null,
            "top": null,
            "visibility": null,
            "width": null
          }
        },
        "ff62f41d7a194448847908e2531019b4": {
          "model_module": "@jupyter-widgets/controls",
          "model_name": "DescriptionStyleModel",
          "model_module_version": "1.5.0",
          "state": {
            "_model_module": "@jupyter-widgets/controls",
            "_model_module_version": "1.5.0",
            "_model_name": "DescriptionStyleModel",
            "_view_count": null,
            "_view_module": "@jupyter-widgets/base",
            "_view_module_version": "1.2.0",
            "_view_name": "StyleView",
            "description_width": ""
          }
        },
        "45a0953a44914c9cbbcfec956c1e28dd": {
          "model_module": "@jupyter-widgets/controls",
          "model_name": "HBoxModel",
          "model_module_version": "1.5.0",
          "state": {
            "_dom_classes": [],
            "_model_module": "@jupyter-widgets/controls",
            "_model_module_version": "1.5.0",
            "_model_name": "HBoxModel",
            "_view_count": null,
            "_view_module": "@jupyter-widgets/controls",
            "_view_module_version": "1.5.0",
            "_view_name": "HBoxView",
            "box_style": "",
            "children": [
              "IPY_MODEL_b79cb8b8cef54aa98432cab163d5ffa5",
              "IPY_MODEL_bf632ad62cc74af78e49e3b3ece0b087",
              "IPY_MODEL_a3a8ca029a6b48769507f45f7469ff09"
            ],
            "layout": "IPY_MODEL_817780976cb04b99927f6c32c61f6994"
          }
        },
        "b79cb8b8cef54aa98432cab163d5ffa5": {
          "model_module": "@jupyter-widgets/controls",
          "model_name": "HTMLModel",
          "model_module_version": "1.5.0",
          "state": {
            "_dom_classes": [],
            "_model_module": "@jupyter-widgets/controls",
            "_model_module_version": "1.5.0",
            "_model_name": "HTMLModel",
            "_view_count": null,
            "_view_module": "@jupyter-widgets/controls",
            "_view_module_version": "1.5.0",
            "_view_name": "HTMLView",
            "description": "",
            "description_tooltip": null,
            "layout": "IPY_MODEL_3d3e73b3e6c74268bcae1670be49e188",
            "placeholder": "​",
            "style": "IPY_MODEL_98de7cbd1bc3465abe25038623f515c6",
            "value": "vocab.json: 100%"
          }
        },
        "bf632ad62cc74af78e49e3b3ece0b087": {
          "model_module": "@jupyter-widgets/controls",
          "model_name": "FloatProgressModel",
          "model_module_version": "1.5.0",
          "state": {
            "_dom_classes": [],
            "_model_module": "@jupyter-widgets/controls",
            "_model_module_version": "1.5.0",
            "_model_name": "FloatProgressModel",
            "_view_count": null,
            "_view_module": "@jupyter-widgets/controls",
            "_view_module_version": "1.5.0",
            "_view_name": "ProgressView",
            "bar_style": "success",
            "description": "",
            "description_tooltip": null,
            "layout": "IPY_MODEL_853461689bea48a095c276ba0bee9595",
            "max": 898823,
            "min": 0,
            "orientation": "horizontal",
            "style": "IPY_MODEL_f6baa4e46f7c44369bb1ebc78f8ab7ed",
            "value": 898823
          }
        },
        "a3a8ca029a6b48769507f45f7469ff09": {
          "model_module": "@jupyter-widgets/controls",
          "model_name": "HTMLModel",
          "model_module_version": "1.5.0",
          "state": {
            "_dom_classes": [],
            "_model_module": "@jupyter-widgets/controls",
            "_model_module_version": "1.5.0",
            "_model_name": "HTMLModel",
            "_view_count": null,
            "_view_module": "@jupyter-widgets/controls",
            "_view_module_version": "1.5.0",
            "_view_name": "HTMLView",
            "description": "",
            "description_tooltip": null,
            "layout": "IPY_MODEL_e6940762bda140d7989335a8c6959501",
            "placeholder": "​",
            "style": "IPY_MODEL_cfd05bd8e7074bef8672462988701e24",
            "value": " 899k/899k [00:00&lt;00:00, 30.0MB/s]"
          }
        },
        "817780976cb04b99927f6c32c61f6994": {
          "model_module": "@jupyter-widgets/base",
          "model_name": "LayoutModel",
          "model_module_version": "1.2.0",
          "state": {
            "_model_module": "@jupyter-widgets/base",
            "_model_module_version": "1.2.0",
            "_model_name": "LayoutModel",
            "_view_count": null,
            "_view_module": "@jupyter-widgets/base",
            "_view_module_version": "1.2.0",
            "_view_name": "LayoutView",
            "align_content": null,
            "align_items": null,
            "align_self": null,
            "border": null,
            "bottom": null,
            "display": null,
            "flex": null,
            "flex_flow": null,
            "grid_area": null,
            "grid_auto_columns": null,
            "grid_auto_flow": null,
            "grid_auto_rows": null,
            "grid_column": null,
            "grid_gap": null,
            "grid_row": null,
            "grid_template_areas": null,
            "grid_template_columns": null,
            "grid_template_rows": null,
            "height": null,
            "justify_content": null,
            "justify_items": null,
            "left": null,
            "margin": null,
            "max_height": null,
            "max_width": null,
            "min_height": null,
            "min_width": null,
            "object_fit": null,
            "object_position": null,
            "order": null,
            "overflow": null,
            "overflow_x": null,
            "overflow_y": null,
            "padding": null,
            "right": null,
            "top": null,
            "visibility": null,
            "width": null
          }
        },
        "3d3e73b3e6c74268bcae1670be49e188": {
          "model_module": "@jupyter-widgets/base",
          "model_name": "LayoutModel",
          "model_module_version": "1.2.0",
          "state": {
            "_model_module": "@jupyter-widgets/base",
            "_model_module_version": "1.2.0",
            "_model_name": "LayoutModel",
            "_view_count": null,
            "_view_module": "@jupyter-widgets/base",
            "_view_module_version": "1.2.0",
            "_view_name": "LayoutView",
            "align_content": null,
            "align_items": null,
            "align_self": null,
            "border": null,
            "bottom": null,
            "display": null,
            "flex": null,
            "flex_flow": null,
            "grid_area": null,
            "grid_auto_columns": null,
            "grid_auto_flow": null,
            "grid_auto_rows": null,
            "grid_column": null,
            "grid_gap": null,
            "grid_row": null,
            "grid_template_areas": null,
            "grid_template_columns": null,
            "grid_template_rows": null,
            "height": null,
            "justify_content": null,
            "justify_items": null,
            "left": null,
            "margin": null,
            "max_height": null,
            "max_width": null,
            "min_height": null,
            "min_width": null,
            "object_fit": null,
            "object_position": null,
            "order": null,
            "overflow": null,
            "overflow_x": null,
            "overflow_y": null,
            "padding": null,
            "right": null,
            "top": null,
            "visibility": null,
            "width": null
          }
        },
        "98de7cbd1bc3465abe25038623f515c6": {
          "model_module": "@jupyter-widgets/controls",
          "model_name": "DescriptionStyleModel",
          "model_module_version": "1.5.0",
          "state": {
            "_model_module": "@jupyter-widgets/controls",
            "_model_module_version": "1.5.0",
            "_model_name": "DescriptionStyleModel",
            "_view_count": null,
            "_view_module": "@jupyter-widgets/base",
            "_view_module_version": "1.2.0",
            "_view_name": "StyleView",
            "description_width": ""
          }
        },
        "853461689bea48a095c276ba0bee9595": {
          "model_module": "@jupyter-widgets/base",
          "model_name": "LayoutModel",
          "model_module_version": "1.2.0",
          "state": {
            "_model_module": "@jupyter-widgets/base",
            "_model_module_version": "1.2.0",
            "_model_name": "LayoutModel",
            "_view_count": null,
            "_view_module": "@jupyter-widgets/base",
            "_view_module_version": "1.2.0",
            "_view_name": "LayoutView",
            "align_content": null,
            "align_items": null,
            "align_self": null,
            "border": null,
            "bottom": null,
            "display": null,
            "flex": null,
            "flex_flow": null,
            "grid_area": null,
            "grid_auto_columns": null,
            "grid_auto_flow": null,
            "grid_auto_rows": null,
            "grid_column": null,
            "grid_gap": null,
            "grid_row": null,
            "grid_template_areas": null,
            "grid_template_columns": null,
            "grid_template_rows": null,
            "height": null,
            "justify_content": null,
            "justify_items": null,
            "left": null,
            "margin": null,
            "max_height": null,
            "max_width": null,
            "min_height": null,
            "min_width": null,
            "object_fit": null,
            "object_position": null,
            "order": null,
            "overflow": null,
            "overflow_x": null,
            "overflow_y": null,
            "padding": null,
            "right": null,
            "top": null,
            "visibility": null,
            "width": null
          }
        },
        "f6baa4e46f7c44369bb1ebc78f8ab7ed": {
          "model_module": "@jupyter-widgets/controls",
          "model_name": "ProgressStyleModel",
          "model_module_version": "1.5.0",
          "state": {
            "_model_module": "@jupyter-widgets/controls",
            "_model_module_version": "1.5.0",
            "_model_name": "ProgressStyleModel",
            "_view_count": null,
            "_view_module": "@jupyter-widgets/base",
            "_view_module_version": "1.2.0",
            "_view_name": "StyleView",
            "bar_color": null,
            "description_width": ""
          }
        },
        "e6940762bda140d7989335a8c6959501": {
          "model_module": "@jupyter-widgets/base",
          "model_name": "LayoutModel",
          "model_module_version": "1.2.0",
          "state": {
            "_model_module": "@jupyter-widgets/base",
            "_model_module_version": "1.2.0",
            "_model_name": "LayoutModel",
            "_view_count": null,
            "_view_module": "@jupyter-widgets/base",
            "_view_module_version": "1.2.0",
            "_view_name": "LayoutView",
            "align_content": null,
            "align_items": null,
            "align_self": null,
            "border": null,
            "bottom": null,
            "display": null,
            "flex": null,
            "flex_flow": null,
            "grid_area": null,
            "grid_auto_columns": null,
            "grid_auto_flow": null,
            "grid_auto_rows": null,
            "grid_column": null,
            "grid_gap": null,
            "grid_row": null,
            "grid_template_areas": null,
            "grid_template_columns": null,
            "grid_template_rows": null,
            "height": null,
            "justify_content": null,
            "justify_items": null,
            "left": null,
            "margin": null,
            "max_height": null,
            "max_width": null,
            "min_height": null,
            "min_width": null,
            "object_fit": null,
            "object_position": null,
            "order": null,
            "overflow": null,
            "overflow_x": null,
            "overflow_y": null,
            "padding": null,
            "right": null,
            "top": null,
            "visibility": null,
            "width": null
          }
        },
        "cfd05bd8e7074bef8672462988701e24": {
          "model_module": "@jupyter-widgets/controls",
          "model_name": "DescriptionStyleModel",
          "model_module_version": "1.5.0",
          "state": {
            "_model_module": "@jupyter-widgets/controls",
            "_model_module_version": "1.5.0",
            "_model_name": "DescriptionStyleModel",
            "_view_count": null,
            "_view_module": "@jupyter-widgets/base",
            "_view_module_version": "1.2.0",
            "_view_name": "StyleView",
            "description_width": ""
          }
        },
        "af226311f8094dbdb582ed7f9dd7abc6": {
          "model_module": "@jupyter-widgets/controls",
          "model_name": "HBoxModel",
          "model_module_version": "1.5.0",
          "state": {
            "_dom_classes": [],
            "_model_module": "@jupyter-widgets/controls",
            "_model_module_version": "1.5.0",
            "_model_name": "HBoxModel",
            "_view_count": null,
            "_view_module": "@jupyter-widgets/controls",
            "_view_module_version": "1.5.0",
            "_view_name": "HBoxView",
            "box_style": "",
            "children": [
              "IPY_MODEL_ee4e6ce3ba494046a114c1c382cc1663",
              "IPY_MODEL_7663c1ef68714870946f9cbe782bfc9a",
              "IPY_MODEL_4eec21d1665d4ee5806204fef263132c"
            ],
            "layout": "IPY_MODEL_87c068e9653d4977ae6340428790b3c6"
          }
        },
        "ee4e6ce3ba494046a114c1c382cc1663": {
          "model_module": "@jupyter-widgets/controls",
          "model_name": "HTMLModel",
          "model_module_version": "1.5.0",
          "state": {
            "_dom_classes": [],
            "_model_module": "@jupyter-widgets/controls",
            "_model_module_version": "1.5.0",
            "_model_name": "HTMLModel",
            "_view_count": null,
            "_view_module": "@jupyter-widgets/controls",
            "_view_module_version": "1.5.0",
            "_view_name": "HTMLView",
            "description": "",
            "description_tooltip": null,
            "layout": "IPY_MODEL_0ea4c67438f64c29ab2cb3a5441f38fa",
            "placeholder": "​",
            "style": "IPY_MODEL_0e832a9ca3044f4db88224d59d50ffe1",
            "value": "merges.txt: 100%"
          }
        },
        "7663c1ef68714870946f9cbe782bfc9a": {
          "model_module": "@jupyter-widgets/controls",
          "model_name": "FloatProgressModel",
          "model_module_version": "1.5.0",
          "state": {
            "_dom_classes": [],
            "_model_module": "@jupyter-widgets/controls",
            "_model_module_version": "1.5.0",
            "_model_name": "FloatProgressModel",
            "_view_count": null,
            "_view_module": "@jupyter-widgets/controls",
            "_view_module_version": "1.5.0",
            "_view_name": "ProgressView",
            "bar_style": "success",
            "description": "",
            "description_tooltip": null,
            "layout": "IPY_MODEL_3c248a09fee347e6a938e2cbb3d1538a",
            "max": 456318,
            "min": 0,
            "orientation": "horizontal",
            "style": "IPY_MODEL_89bf3ea520a547dcb888c576c8be40c3",
            "value": 456318
          }
        },
        "4eec21d1665d4ee5806204fef263132c": {
          "model_module": "@jupyter-widgets/controls",
          "model_name": "HTMLModel",
          "model_module_version": "1.5.0",
          "state": {
            "_dom_classes": [],
            "_model_module": "@jupyter-widgets/controls",
            "_model_module_version": "1.5.0",
            "_model_name": "HTMLModel",
            "_view_count": null,
            "_view_module": "@jupyter-widgets/controls",
            "_view_module_version": "1.5.0",
            "_view_name": "HTMLView",
            "description": "",
            "description_tooltip": null,
            "layout": "IPY_MODEL_baff3c4945244ba69d0a2399da094422",
            "placeholder": "​",
            "style": "IPY_MODEL_79545b6571dc4cb8a837df35bd32d2a5",
            "value": " 456k/456k [00:00&lt;00:00, 2.01MB/s]"
          }
        },
        "87c068e9653d4977ae6340428790b3c6": {
          "model_module": "@jupyter-widgets/base",
          "model_name": "LayoutModel",
          "model_module_version": "1.2.0",
          "state": {
            "_model_module": "@jupyter-widgets/base",
            "_model_module_version": "1.2.0",
            "_model_name": "LayoutModel",
            "_view_count": null,
            "_view_module": "@jupyter-widgets/base",
            "_view_module_version": "1.2.0",
            "_view_name": "LayoutView",
            "align_content": null,
            "align_items": null,
            "align_self": null,
            "border": null,
            "bottom": null,
            "display": null,
            "flex": null,
            "flex_flow": null,
            "grid_area": null,
            "grid_auto_columns": null,
            "grid_auto_flow": null,
            "grid_auto_rows": null,
            "grid_column": null,
            "grid_gap": null,
            "grid_row": null,
            "grid_template_areas": null,
            "grid_template_columns": null,
            "grid_template_rows": null,
            "height": null,
            "justify_content": null,
            "justify_items": null,
            "left": null,
            "margin": null,
            "max_height": null,
            "max_width": null,
            "min_height": null,
            "min_width": null,
            "object_fit": null,
            "object_position": null,
            "order": null,
            "overflow": null,
            "overflow_x": null,
            "overflow_y": null,
            "padding": null,
            "right": null,
            "top": null,
            "visibility": null,
            "width": null
          }
        },
        "0ea4c67438f64c29ab2cb3a5441f38fa": {
          "model_module": "@jupyter-widgets/base",
          "model_name": "LayoutModel",
          "model_module_version": "1.2.0",
          "state": {
            "_model_module": "@jupyter-widgets/base",
            "_model_module_version": "1.2.0",
            "_model_name": "LayoutModel",
            "_view_count": null,
            "_view_module": "@jupyter-widgets/base",
            "_view_module_version": "1.2.0",
            "_view_name": "LayoutView",
            "align_content": null,
            "align_items": null,
            "align_self": null,
            "border": null,
            "bottom": null,
            "display": null,
            "flex": null,
            "flex_flow": null,
            "grid_area": null,
            "grid_auto_columns": null,
            "grid_auto_flow": null,
            "grid_auto_rows": null,
            "grid_column": null,
            "grid_gap": null,
            "grid_row": null,
            "grid_template_areas": null,
            "grid_template_columns": null,
            "grid_template_rows": null,
            "height": null,
            "justify_content": null,
            "justify_items": null,
            "left": null,
            "margin": null,
            "max_height": null,
            "max_width": null,
            "min_height": null,
            "min_width": null,
            "object_fit": null,
            "object_position": null,
            "order": null,
            "overflow": null,
            "overflow_x": null,
            "overflow_y": null,
            "padding": null,
            "right": null,
            "top": null,
            "visibility": null,
            "width": null
          }
        },
        "0e832a9ca3044f4db88224d59d50ffe1": {
          "model_module": "@jupyter-widgets/controls",
          "model_name": "DescriptionStyleModel",
          "model_module_version": "1.5.0",
          "state": {
            "_model_module": "@jupyter-widgets/controls",
            "_model_module_version": "1.5.0",
            "_model_name": "DescriptionStyleModel",
            "_view_count": null,
            "_view_module": "@jupyter-widgets/base",
            "_view_module_version": "1.2.0",
            "_view_name": "StyleView",
            "description_width": ""
          }
        },
        "3c248a09fee347e6a938e2cbb3d1538a": {
          "model_module": "@jupyter-widgets/base",
          "model_name": "LayoutModel",
          "model_module_version": "1.2.0",
          "state": {
            "_model_module": "@jupyter-widgets/base",
            "_model_module_version": "1.2.0",
            "_model_name": "LayoutModel",
            "_view_count": null,
            "_view_module": "@jupyter-widgets/base",
            "_view_module_version": "1.2.0",
            "_view_name": "LayoutView",
            "align_content": null,
            "align_items": null,
            "align_self": null,
            "border": null,
            "bottom": null,
            "display": null,
            "flex": null,
            "flex_flow": null,
            "grid_area": null,
            "grid_auto_columns": null,
            "grid_auto_flow": null,
            "grid_auto_rows": null,
            "grid_column": null,
            "grid_gap": null,
            "grid_row": null,
            "grid_template_areas": null,
            "grid_template_columns": null,
            "grid_template_rows": null,
            "height": null,
            "justify_content": null,
            "justify_items": null,
            "left": null,
            "margin": null,
            "max_height": null,
            "max_width": null,
            "min_height": null,
            "min_width": null,
            "object_fit": null,
            "object_position": null,
            "order": null,
            "overflow": null,
            "overflow_x": null,
            "overflow_y": null,
            "padding": null,
            "right": null,
            "top": null,
            "visibility": null,
            "width": null
          }
        },
        "89bf3ea520a547dcb888c576c8be40c3": {
          "model_module": "@jupyter-widgets/controls",
          "model_name": "ProgressStyleModel",
          "model_module_version": "1.5.0",
          "state": {
            "_model_module": "@jupyter-widgets/controls",
            "_model_module_version": "1.5.0",
            "_model_name": "ProgressStyleModel",
            "_view_count": null,
            "_view_module": "@jupyter-widgets/base",
            "_view_module_version": "1.2.0",
            "_view_name": "StyleView",
            "bar_color": null,
            "description_width": ""
          }
        },
        "baff3c4945244ba69d0a2399da094422": {
          "model_module": "@jupyter-widgets/base",
          "model_name": "LayoutModel",
          "model_module_version": "1.2.0",
          "state": {
            "_model_module": "@jupyter-widgets/base",
            "_model_module_version": "1.2.0",
            "_model_name": "LayoutModel",
            "_view_count": null,
            "_view_module": "@jupyter-widgets/base",
            "_view_module_version": "1.2.0",
            "_view_name": "LayoutView",
            "align_content": null,
            "align_items": null,
            "align_self": null,
            "border": null,
            "bottom": null,
            "display": null,
            "flex": null,
            "flex_flow": null,
            "grid_area": null,
            "grid_auto_columns": null,
            "grid_auto_flow": null,
            "grid_auto_rows": null,
            "grid_column": null,
            "grid_gap": null,
            "grid_row": null,
            "grid_template_areas": null,
            "grid_template_columns": null,
            "grid_template_rows": null,
            "height": null,
            "justify_content": null,
            "justify_items": null,
            "left": null,
            "margin": null,
            "max_height": null,
            "max_width": null,
            "min_height": null,
            "min_width": null,
            "object_fit": null,
            "object_position": null,
            "order": null,
            "overflow": null,
            "overflow_x": null,
            "overflow_y": null,
            "padding": null,
            "right": null,
            "top": null,
            "visibility": null,
            "width": null
          }
        },
        "79545b6571dc4cb8a837df35bd32d2a5": {
          "model_module": "@jupyter-widgets/controls",
          "model_name": "DescriptionStyleModel",
          "model_module_version": "1.5.0",
          "state": {
            "_model_module": "@jupyter-widgets/controls",
            "_model_module_version": "1.5.0",
            "_model_name": "DescriptionStyleModel",
            "_view_count": null,
            "_view_module": "@jupyter-widgets/base",
            "_view_module_version": "1.2.0",
            "_view_name": "StyleView",
            "description_width": ""
          }
        },
        "9c2b25c2ff824d76830a18cd91dbb1fd": {
          "model_module": "@jupyter-widgets/controls",
          "model_name": "HBoxModel",
          "model_module_version": "1.5.0",
          "state": {
            "_dom_classes": [],
            "_model_module": "@jupyter-widgets/controls",
            "_model_module_version": "1.5.0",
            "_model_name": "HBoxModel",
            "_view_count": null,
            "_view_module": "@jupyter-widgets/controls",
            "_view_module_version": "1.5.0",
            "_view_name": "HBoxView",
            "box_style": "",
            "children": [
              "IPY_MODEL_653e4b59cd7e46c6a0187b2effb7ab3b",
              "IPY_MODEL_ef518ee980534975aede5afb595c5b4c",
              "IPY_MODEL_f70e5eb79ef9496faee1122cda87aa47"
            ],
            "layout": "IPY_MODEL_b497ff19218c446a878af835fbd86018"
          }
        },
        "653e4b59cd7e46c6a0187b2effb7ab3b": {
          "model_module": "@jupyter-widgets/controls",
          "model_name": "HTMLModel",
          "model_module_version": "1.5.0",
          "state": {
            "_dom_classes": [],
            "_model_module": "@jupyter-widgets/controls",
            "_model_module_version": "1.5.0",
            "_model_name": "HTMLModel",
            "_view_count": null,
            "_view_module": "@jupyter-widgets/controls",
            "_view_module_version": "1.5.0",
            "_view_name": "HTMLView",
            "description": "",
            "description_tooltip": null,
            "layout": "IPY_MODEL_e854d74ca40146d39b8467cc39ceafa6",
            "placeholder": "​",
            "style": "IPY_MODEL_0d15a87c67b347e4bc26eb9a79674e85",
            "value": "tokenizer.json: 100%"
          }
        },
        "ef518ee980534975aede5afb595c5b4c": {
          "model_module": "@jupyter-widgets/controls",
          "model_name": "FloatProgressModel",
          "model_module_version": "1.5.0",
          "state": {
            "_dom_classes": [],
            "_model_module": "@jupyter-widgets/controls",
            "_model_module_version": "1.5.0",
            "_model_name": "FloatProgressModel",
            "_view_count": null,
            "_view_module": "@jupyter-widgets/controls",
            "_view_module_version": "1.5.0",
            "_view_name": "ProgressView",
            "bar_style": "success",
            "description": "",
            "description_tooltip": null,
            "layout": "IPY_MODEL_1fcbac02506c4324a869bc5070fc2a03",
            "max": 1355863,
            "min": 0,
            "orientation": "horizontal",
            "style": "IPY_MODEL_2ca28134a1e744e3a6e5f6fca30971d9",
            "value": 1355863
          }
        },
        "f70e5eb79ef9496faee1122cda87aa47": {
          "model_module": "@jupyter-widgets/controls",
          "model_name": "HTMLModel",
          "model_module_version": "1.5.0",
          "state": {
            "_dom_classes": [],
            "_model_module": "@jupyter-widgets/controls",
            "_model_module_version": "1.5.0",
            "_model_name": "HTMLModel",
            "_view_count": null,
            "_view_module": "@jupyter-widgets/controls",
            "_view_module_version": "1.5.0",
            "_view_name": "HTMLView",
            "description": "",
            "description_tooltip": null,
            "layout": "IPY_MODEL_f3ffd5979c9d4fc68e9cabce35a7447a",
            "placeholder": "​",
            "style": "IPY_MODEL_756930498318494a94fcaf8f188b0342",
            "value": " 1.36M/1.36M [00:00&lt;00:00, 25.2MB/s]"
          }
        },
        "b497ff19218c446a878af835fbd86018": {
          "model_module": "@jupyter-widgets/base",
          "model_name": "LayoutModel",
          "model_module_version": "1.2.0",
          "state": {
            "_model_module": "@jupyter-widgets/base",
            "_model_module_version": "1.2.0",
            "_model_name": "LayoutModel",
            "_view_count": null,
            "_view_module": "@jupyter-widgets/base",
            "_view_module_version": "1.2.0",
            "_view_name": "LayoutView",
            "align_content": null,
            "align_items": null,
            "align_self": null,
            "border": null,
            "bottom": null,
            "display": null,
            "flex": null,
            "flex_flow": null,
            "grid_area": null,
            "grid_auto_columns": null,
            "grid_auto_flow": null,
            "grid_auto_rows": null,
            "grid_column": null,
            "grid_gap": null,
            "grid_row": null,
            "grid_template_areas": null,
            "grid_template_columns": null,
            "grid_template_rows": null,
            "height": null,
            "justify_content": null,
            "justify_items": null,
            "left": null,
            "margin": null,
            "max_height": null,
            "max_width": null,
            "min_height": null,
            "min_width": null,
            "object_fit": null,
            "object_position": null,
            "order": null,
            "overflow": null,
            "overflow_x": null,
            "overflow_y": null,
            "padding": null,
            "right": null,
            "top": null,
            "visibility": null,
            "width": null
          }
        },
        "e854d74ca40146d39b8467cc39ceafa6": {
          "model_module": "@jupyter-widgets/base",
          "model_name": "LayoutModel",
          "model_module_version": "1.2.0",
          "state": {
            "_model_module": "@jupyter-widgets/base",
            "_model_module_version": "1.2.0",
            "_model_name": "LayoutModel",
            "_view_count": null,
            "_view_module": "@jupyter-widgets/base",
            "_view_module_version": "1.2.0",
            "_view_name": "LayoutView",
            "align_content": null,
            "align_items": null,
            "align_self": null,
            "border": null,
            "bottom": null,
            "display": null,
            "flex": null,
            "flex_flow": null,
            "grid_area": null,
            "grid_auto_columns": null,
            "grid_auto_flow": null,
            "grid_auto_rows": null,
            "grid_column": null,
            "grid_gap": null,
            "grid_row": null,
            "grid_template_areas": null,
            "grid_template_columns": null,
            "grid_template_rows": null,
            "height": null,
            "justify_content": null,
            "justify_items": null,
            "left": null,
            "margin": null,
            "max_height": null,
            "max_width": null,
            "min_height": null,
            "min_width": null,
            "object_fit": null,
            "object_position": null,
            "order": null,
            "overflow": null,
            "overflow_x": null,
            "overflow_y": null,
            "padding": null,
            "right": null,
            "top": null,
            "visibility": null,
            "width": null
          }
        },
        "0d15a87c67b347e4bc26eb9a79674e85": {
          "model_module": "@jupyter-widgets/controls",
          "model_name": "DescriptionStyleModel",
          "model_module_version": "1.5.0",
          "state": {
            "_model_module": "@jupyter-widgets/controls",
            "_model_module_version": "1.5.0",
            "_model_name": "DescriptionStyleModel",
            "_view_count": null,
            "_view_module": "@jupyter-widgets/base",
            "_view_module_version": "1.2.0",
            "_view_name": "StyleView",
            "description_width": ""
          }
        },
        "1fcbac02506c4324a869bc5070fc2a03": {
          "model_module": "@jupyter-widgets/base",
          "model_name": "LayoutModel",
          "model_module_version": "1.2.0",
          "state": {
            "_model_module": "@jupyter-widgets/base",
            "_model_module_version": "1.2.0",
            "_model_name": "LayoutModel",
            "_view_count": null,
            "_view_module": "@jupyter-widgets/base",
            "_view_module_version": "1.2.0",
            "_view_name": "LayoutView",
            "align_content": null,
            "align_items": null,
            "align_self": null,
            "border": null,
            "bottom": null,
            "display": null,
            "flex": null,
            "flex_flow": null,
            "grid_area": null,
            "grid_auto_columns": null,
            "grid_auto_flow": null,
            "grid_auto_rows": null,
            "grid_column": null,
            "grid_gap": null,
            "grid_row": null,
            "grid_template_areas": null,
            "grid_template_columns": null,
            "grid_template_rows": null,
            "height": null,
            "justify_content": null,
            "justify_items": null,
            "left": null,
            "margin": null,
            "max_height": null,
            "max_width": null,
            "min_height": null,
            "min_width": null,
            "object_fit": null,
            "object_position": null,
            "order": null,
            "overflow": null,
            "overflow_x": null,
            "overflow_y": null,
            "padding": null,
            "right": null,
            "top": null,
            "visibility": null,
            "width": null
          }
        },
        "2ca28134a1e744e3a6e5f6fca30971d9": {
          "model_module": "@jupyter-widgets/controls",
          "model_name": "ProgressStyleModel",
          "model_module_version": "1.5.0",
          "state": {
            "_model_module": "@jupyter-widgets/controls",
            "_model_module_version": "1.5.0",
            "_model_name": "ProgressStyleModel",
            "_view_count": null,
            "_view_module": "@jupyter-widgets/base",
            "_view_module_version": "1.2.0",
            "_view_name": "StyleView",
            "bar_color": null,
            "description_width": ""
          }
        },
        "f3ffd5979c9d4fc68e9cabce35a7447a": {
          "model_module": "@jupyter-widgets/base",
          "model_name": "LayoutModel",
          "model_module_version": "1.2.0",
          "state": {
            "_model_module": "@jupyter-widgets/base",
            "_model_module_version": "1.2.0",
            "_model_name": "LayoutModel",
            "_view_count": null,
            "_view_module": "@jupyter-widgets/base",
            "_view_module_version": "1.2.0",
            "_view_name": "LayoutView",
            "align_content": null,
            "align_items": null,
            "align_self": null,
            "border": null,
            "bottom": null,
            "display": null,
            "flex": null,
            "flex_flow": null,
            "grid_area": null,
            "grid_auto_columns": null,
            "grid_auto_flow": null,
            "grid_auto_rows": null,
            "grid_column": null,
            "grid_gap": null,
            "grid_row": null,
            "grid_template_areas": null,
            "grid_template_columns": null,
            "grid_template_rows": null,
            "height": null,
            "justify_content": null,
            "justify_items": null,
            "left": null,
            "margin": null,
            "max_height": null,
            "max_width": null,
            "min_height": null,
            "min_width": null,
            "object_fit": null,
            "object_position": null,
            "order": null,
            "overflow": null,
            "overflow_x": null,
            "overflow_y": null,
            "padding": null,
            "right": null,
            "top": null,
            "visibility": null,
            "width": null
          }
        },
        "756930498318494a94fcaf8f188b0342": {
          "model_module": "@jupyter-widgets/controls",
          "model_name": "DescriptionStyleModel",
          "model_module_version": "1.5.0",
          "state": {
            "_model_module": "@jupyter-widgets/controls",
            "_model_module_version": "1.5.0",
            "_model_name": "DescriptionStyleModel",
            "_view_count": null,
            "_view_module": "@jupyter-widgets/base",
            "_view_module_version": "1.2.0",
            "_view_name": "StyleView",
            "description_width": ""
          }
        },
        "9bceeb5854574f73b06c363369e50953": {
          "model_module": "@jupyter-widgets/controls",
          "model_name": "HBoxModel",
          "model_module_version": "1.5.0",
          "state": {
            "_dom_classes": [],
            "_model_module": "@jupyter-widgets/controls",
            "_model_module_version": "1.5.0",
            "_model_name": "HBoxModel",
            "_view_count": null,
            "_view_module": "@jupyter-widgets/controls",
            "_view_module_version": "1.5.0",
            "_view_name": "HBoxView",
            "box_style": "",
            "children": [
              "IPY_MODEL_ee25ddb8d6eb4a6184a6372733766d54",
              "IPY_MODEL_e68b722a02a943758647ce17193f4547",
              "IPY_MODEL_b61205dafd0f480c9af6f0e9c5fd7a0f"
            ],
            "layout": "IPY_MODEL_5c798f7d75f54dfaa501112536663400"
          }
        },
        "ee25ddb8d6eb4a6184a6372733766d54": {
          "model_module": "@jupyter-widgets/controls",
          "model_name": "HTMLModel",
          "model_module_version": "1.5.0",
          "state": {
            "_dom_classes": [],
            "_model_module": "@jupyter-widgets/controls",
            "_model_module_version": "1.5.0",
            "_model_name": "HTMLModel",
            "_view_count": null,
            "_view_module": "@jupyter-widgets/controls",
            "_view_module_version": "1.5.0",
            "_view_name": "HTMLView",
            "description": "",
            "description_tooltip": null,
            "layout": "IPY_MODEL_44114529585948669a791c9f1f4443a9",
            "placeholder": "​",
            "style": "IPY_MODEL_a491c99b1ea54faaa88c46cf4fb2d712",
            "value": "config.json: 100%"
          }
        },
        "e68b722a02a943758647ce17193f4547": {
          "model_module": "@jupyter-widgets/controls",
          "model_name": "FloatProgressModel",
          "model_module_version": "1.5.0",
          "state": {
            "_dom_classes": [],
            "_model_module": "@jupyter-widgets/controls",
            "_model_module_version": "1.5.0",
            "_model_name": "FloatProgressModel",
            "_view_count": null,
            "_view_module": "@jupyter-widgets/controls",
            "_view_module_version": "1.5.0",
            "_view_name": "ProgressView",
            "bar_style": "success",
            "description": "",
            "description_tooltip": null,
            "layout": "IPY_MODEL_f52c77364956411d82ec30254a416d49",
            "max": 481,
            "min": 0,
            "orientation": "horizontal",
            "style": "IPY_MODEL_e184292937594530933047a6e650ab76",
            "value": 481
          }
        },
        "b61205dafd0f480c9af6f0e9c5fd7a0f": {
          "model_module": "@jupyter-widgets/controls",
          "model_name": "HTMLModel",
          "model_module_version": "1.5.0",
          "state": {
            "_dom_classes": [],
            "_model_module": "@jupyter-widgets/controls",
            "_model_module_version": "1.5.0",
            "_model_name": "HTMLModel",
            "_view_count": null,
            "_view_module": "@jupyter-widgets/controls",
            "_view_module_version": "1.5.0",
            "_view_name": "HTMLView",
            "description": "",
            "description_tooltip": null,
            "layout": "IPY_MODEL_631ade8d95bb48f18659827f1b7c79ed",
            "placeholder": "​",
            "style": "IPY_MODEL_3e13f1e9e74545a4b26a6fce4e5292c0",
            "value": " 481/481 [00:00&lt;00:00, 28.7kB/s]"
          }
        },
        "5c798f7d75f54dfaa501112536663400": {
          "model_module": "@jupyter-widgets/base",
          "model_name": "LayoutModel",
          "model_module_version": "1.2.0",
          "state": {
            "_model_module": "@jupyter-widgets/base",
            "_model_module_version": "1.2.0",
            "_model_name": "LayoutModel",
            "_view_count": null,
            "_view_module": "@jupyter-widgets/base",
            "_view_module_version": "1.2.0",
            "_view_name": "LayoutView",
            "align_content": null,
            "align_items": null,
            "align_self": null,
            "border": null,
            "bottom": null,
            "display": null,
            "flex": null,
            "flex_flow": null,
            "grid_area": null,
            "grid_auto_columns": null,
            "grid_auto_flow": null,
            "grid_auto_rows": null,
            "grid_column": null,
            "grid_gap": null,
            "grid_row": null,
            "grid_template_areas": null,
            "grid_template_columns": null,
            "grid_template_rows": null,
            "height": null,
            "justify_content": null,
            "justify_items": null,
            "left": null,
            "margin": null,
            "max_height": null,
            "max_width": null,
            "min_height": null,
            "min_width": null,
            "object_fit": null,
            "object_position": null,
            "order": null,
            "overflow": null,
            "overflow_x": null,
            "overflow_y": null,
            "padding": null,
            "right": null,
            "top": null,
            "visibility": null,
            "width": null
          }
        },
        "44114529585948669a791c9f1f4443a9": {
          "model_module": "@jupyter-widgets/base",
          "model_name": "LayoutModel",
          "model_module_version": "1.2.0",
          "state": {
            "_model_module": "@jupyter-widgets/base",
            "_model_module_version": "1.2.0",
            "_model_name": "LayoutModel",
            "_view_count": null,
            "_view_module": "@jupyter-widgets/base",
            "_view_module_version": "1.2.0",
            "_view_name": "LayoutView",
            "align_content": null,
            "align_items": null,
            "align_self": null,
            "border": null,
            "bottom": null,
            "display": null,
            "flex": null,
            "flex_flow": null,
            "grid_area": null,
            "grid_auto_columns": null,
            "grid_auto_flow": null,
            "grid_auto_rows": null,
            "grid_column": null,
            "grid_gap": null,
            "grid_row": null,
            "grid_template_areas": null,
            "grid_template_columns": null,
            "grid_template_rows": null,
            "height": null,
            "justify_content": null,
            "justify_items": null,
            "left": null,
            "margin": null,
            "max_height": null,
            "max_width": null,
            "min_height": null,
            "min_width": null,
            "object_fit": null,
            "object_position": null,
            "order": null,
            "overflow": null,
            "overflow_x": null,
            "overflow_y": null,
            "padding": null,
            "right": null,
            "top": null,
            "visibility": null,
            "width": null
          }
        },
        "a491c99b1ea54faaa88c46cf4fb2d712": {
          "model_module": "@jupyter-widgets/controls",
          "model_name": "DescriptionStyleModel",
          "model_module_version": "1.5.0",
          "state": {
            "_model_module": "@jupyter-widgets/controls",
            "_model_module_version": "1.5.0",
            "_model_name": "DescriptionStyleModel",
            "_view_count": null,
            "_view_module": "@jupyter-widgets/base",
            "_view_module_version": "1.2.0",
            "_view_name": "StyleView",
            "description_width": ""
          }
        },
        "f52c77364956411d82ec30254a416d49": {
          "model_module": "@jupyter-widgets/base",
          "model_name": "LayoutModel",
          "model_module_version": "1.2.0",
          "state": {
            "_model_module": "@jupyter-widgets/base",
            "_model_module_version": "1.2.0",
            "_model_name": "LayoutModel",
            "_view_count": null,
            "_view_module": "@jupyter-widgets/base",
            "_view_module_version": "1.2.0",
            "_view_name": "LayoutView",
            "align_content": null,
            "align_items": null,
            "align_self": null,
            "border": null,
            "bottom": null,
            "display": null,
            "flex": null,
            "flex_flow": null,
            "grid_area": null,
            "grid_auto_columns": null,
            "grid_auto_flow": null,
            "grid_auto_rows": null,
            "grid_column": null,
            "grid_gap": null,
            "grid_row": null,
            "grid_template_areas": null,
            "grid_template_columns": null,
            "grid_template_rows": null,
            "height": null,
            "justify_content": null,
            "justify_items": null,
            "left": null,
            "margin": null,
            "max_height": null,
            "max_width": null,
            "min_height": null,
            "min_width": null,
            "object_fit": null,
            "object_position": null,
            "order": null,
            "overflow": null,
            "overflow_x": null,
            "overflow_y": null,
            "padding": null,
            "right": null,
            "top": null,
            "visibility": null,
            "width": null
          }
        },
        "e184292937594530933047a6e650ab76": {
          "model_module": "@jupyter-widgets/controls",
          "model_name": "ProgressStyleModel",
          "model_module_version": "1.5.0",
          "state": {
            "_model_module": "@jupyter-widgets/controls",
            "_model_module_version": "1.5.0",
            "_model_name": "ProgressStyleModel",
            "_view_count": null,
            "_view_module": "@jupyter-widgets/base",
            "_view_module_version": "1.2.0",
            "_view_name": "StyleView",
            "bar_color": null,
            "description_width": ""
          }
        },
        "631ade8d95bb48f18659827f1b7c79ed": {
          "model_module": "@jupyter-widgets/base",
          "model_name": "LayoutModel",
          "model_module_version": "1.2.0",
          "state": {
            "_model_module": "@jupyter-widgets/base",
            "_model_module_version": "1.2.0",
            "_model_name": "LayoutModel",
            "_view_count": null,
            "_view_module": "@jupyter-widgets/base",
            "_view_module_version": "1.2.0",
            "_view_name": "LayoutView",
            "align_content": null,
            "align_items": null,
            "align_self": null,
            "border": null,
            "bottom": null,
            "display": null,
            "flex": null,
            "flex_flow": null,
            "grid_area": null,
            "grid_auto_columns": null,
            "grid_auto_flow": null,
            "grid_auto_rows": null,
            "grid_column": null,
            "grid_gap": null,
            "grid_row": null,
            "grid_template_areas": null,
            "grid_template_columns": null,
            "grid_template_rows": null,
            "height": null,
            "justify_content": null,
            "justify_items": null,
            "left": null,
            "margin": null,
            "max_height": null,
            "max_width": null,
            "min_height": null,
            "min_width": null,
            "object_fit": null,
            "object_position": null,
            "order": null,
            "overflow": null,
            "overflow_x": null,
            "overflow_y": null,
            "padding": null,
            "right": null,
            "top": null,
            "visibility": null,
            "width": null
          }
        },
        "3e13f1e9e74545a4b26a6fce4e5292c0": {
          "model_module": "@jupyter-widgets/controls",
          "model_name": "DescriptionStyleModel",
          "model_module_version": "1.5.0",
          "state": {
            "_model_module": "@jupyter-widgets/controls",
            "_model_module_version": "1.5.0",
            "_model_name": "DescriptionStyleModel",
            "_view_count": null,
            "_view_module": "@jupyter-widgets/base",
            "_view_module_version": "1.2.0",
            "_view_name": "StyleView",
            "description_width": ""
          }
        },
        "1f2b53f368c844f786d1af0df3f8cc11": {
          "model_module": "@jupyter-widgets/controls",
          "model_name": "HBoxModel",
          "model_module_version": "1.5.0",
          "state": {
            "_dom_classes": [],
            "_model_module": "@jupyter-widgets/controls",
            "_model_module_version": "1.5.0",
            "_model_name": "HBoxModel",
            "_view_count": null,
            "_view_module": "@jupyter-widgets/controls",
            "_view_module_version": "1.5.0",
            "_view_name": "HBoxView",
            "box_style": "",
            "children": [
              "IPY_MODEL_78aeaab2592f43ffa16e730bed6a880d",
              "IPY_MODEL_83dc210f00f4490db41a7631b377777a",
              "IPY_MODEL_9626774d3d884dedae7cffcc8e4eff4f"
            ],
            "layout": "IPY_MODEL_8cb851e095f5488d83b2a38c637d3c54"
          }
        },
        "78aeaab2592f43ffa16e730bed6a880d": {
          "model_module": "@jupyter-widgets/controls",
          "model_name": "HTMLModel",
          "model_module_version": "1.5.0",
          "state": {
            "_dom_classes": [],
            "_model_module": "@jupyter-widgets/controls",
            "_model_module_version": "1.5.0",
            "_model_name": "HTMLModel",
            "_view_count": null,
            "_view_module": "@jupyter-widgets/controls",
            "_view_module_version": "1.5.0",
            "_view_name": "HTMLView",
            "description": "",
            "description_tooltip": null,
            "layout": "IPY_MODEL_4fb0c300a4a54f42a3ee53572ff2ab12",
            "placeholder": "​",
            "style": "IPY_MODEL_865e05b9804a4c45b51602b6f0ff2dbd",
            "value": "model.safetensors: 100%"
          }
        },
        "83dc210f00f4490db41a7631b377777a": {
          "model_module": "@jupyter-widgets/controls",
          "model_name": "FloatProgressModel",
          "model_module_version": "1.5.0",
          "state": {
            "_dom_classes": [],
            "_model_module": "@jupyter-widgets/controls",
            "_model_module_version": "1.5.0",
            "_model_name": "FloatProgressModel",
            "_view_count": null,
            "_view_module": "@jupyter-widgets/controls",
            "_view_module_version": "1.5.0",
            "_view_name": "ProgressView",
            "bar_style": "success",
            "description": "",
            "description_tooltip": null,
            "layout": "IPY_MODEL_8aecd63445374b8da2fe76468bd0e000",
            "max": 498818054,
            "min": 0,
            "orientation": "horizontal",
            "style": "IPY_MODEL_68a4787dfd9a41c2b9126c2ed1a53a97",
            "value": 498818054
          }
        },
        "9626774d3d884dedae7cffcc8e4eff4f": {
          "model_module": "@jupyter-widgets/controls",
          "model_name": "HTMLModel",
          "model_module_version": "1.5.0",
          "state": {
            "_dom_classes": [],
            "_model_module": "@jupyter-widgets/controls",
            "_model_module_version": "1.5.0",
            "_model_name": "HTMLModel",
            "_view_count": null,
            "_view_module": "@jupyter-widgets/controls",
            "_view_module_version": "1.5.0",
            "_view_name": "HTMLView",
            "description": "",
            "description_tooltip": null,
            "layout": "IPY_MODEL_753392c1fdd840c5a949522cfc3a0d5a",
            "placeholder": "​",
            "style": "IPY_MODEL_fcd950aecd2c4e2ebdad29f51c2f1bf3",
            "value": " 499M/499M [00:01&lt;00:00, 298MB/s]"
          }
        },
        "8cb851e095f5488d83b2a38c637d3c54": {
          "model_module": "@jupyter-widgets/base",
          "model_name": "LayoutModel",
          "model_module_version": "1.2.0",
          "state": {
            "_model_module": "@jupyter-widgets/base",
            "_model_module_version": "1.2.0",
            "_model_name": "LayoutModel",
            "_view_count": null,
            "_view_module": "@jupyter-widgets/base",
            "_view_module_version": "1.2.0",
            "_view_name": "LayoutView",
            "align_content": null,
            "align_items": null,
            "align_self": null,
            "border": null,
            "bottom": null,
            "display": null,
            "flex": null,
            "flex_flow": null,
            "grid_area": null,
            "grid_auto_columns": null,
            "grid_auto_flow": null,
            "grid_auto_rows": null,
            "grid_column": null,
            "grid_gap": null,
            "grid_row": null,
            "grid_template_areas": null,
            "grid_template_columns": null,
            "grid_template_rows": null,
            "height": null,
            "justify_content": null,
            "justify_items": null,
            "left": null,
            "margin": null,
            "max_height": null,
            "max_width": null,
            "min_height": null,
            "min_width": null,
            "object_fit": null,
            "object_position": null,
            "order": null,
            "overflow": null,
            "overflow_x": null,
            "overflow_y": null,
            "padding": null,
            "right": null,
            "top": null,
            "visibility": null,
            "width": null
          }
        },
        "4fb0c300a4a54f42a3ee53572ff2ab12": {
          "model_module": "@jupyter-widgets/base",
          "model_name": "LayoutModel",
          "model_module_version": "1.2.0",
          "state": {
            "_model_module": "@jupyter-widgets/base",
            "_model_module_version": "1.2.0",
            "_model_name": "LayoutModel",
            "_view_count": null,
            "_view_module": "@jupyter-widgets/base",
            "_view_module_version": "1.2.0",
            "_view_name": "LayoutView",
            "align_content": null,
            "align_items": null,
            "align_self": null,
            "border": null,
            "bottom": null,
            "display": null,
            "flex": null,
            "flex_flow": null,
            "grid_area": null,
            "grid_auto_columns": null,
            "grid_auto_flow": null,
            "grid_auto_rows": null,
            "grid_column": null,
            "grid_gap": null,
            "grid_row": null,
            "grid_template_areas": null,
            "grid_template_columns": null,
            "grid_template_rows": null,
            "height": null,
            "justify_content": null,
            "justify_items": null,
            "left": null,
            "margin": null,
            "max_height": null,
            "max_width": null,
            "min_height": null,
            "min_width": null,
            "object_fit": null,
            "object_position": null,
            "order": null,
            "overflow": null,
            "overflow_x": null,
            "overflow_y": null,
            "padding": null,
            "right": null,
            "top": null,
            "visibility": null,
            "width": null
          }
        },
        "865e05b9804a4c45b51602b6f0ff2dbd": {
          "model_module": "@jupyter-widgets/controls",
          "model_name": "DescriptionStyleModel",
          "model_module_version": "1.5.0",
          "state": {
            "_model_module": "@jupyter-widgets/controls",
            "_model_module_version": "1.5.0",
            "_model_name": "DescriptionStyleModel",
            "_view_count": null,
            "_view_module": "@jupyter-widgets/base",
            "_view_module_version": "1.2.0",
            "_view_name": "StyleView",
            "description_width": ""
          }
        },
        "8aecd63445374b8da2fe76468bd0e000": {
          "model_module": "@jupyter-widgets/base",
          "model_name": "LayoutModel",
          "model_module_version": "1.2.0",
          "state": {
            "_model_module": "@jupyter-widgets/base",
            "_model_module_version": "1.2.0",
            "_model_name": "LayoutModel",
            "_view_count": null,
            "_view_module": "@jupyter-widgets/base",
            "_view_module_version": "1.2.0",
            "_view_name": "LayoutView",
            "align_content": null,
            "align_items": null,
            "align_self": null,
            "border": null,
            "bottom": null,
            "display": null,
            "flex": null,
            "flex_flow": null,
            "grid_area": null,
            "grid_auto_columns": null,
            "grid_auto_flow": null,
            "grid_auto_rows": null,
            "grid_column": null,
            "grid_gap": null,
            "grid_row": null,
            "grid_template_areas": null,
            "grid_template_columns": null,
            "grid_template_rows": null,
            "height": null,
            "justify_content": null,
            "justify_items": null,
            "left": null,
            "margin": null,
            "max_height": null,
            "max_width": null,
            "min_height": null,
            "min_width": null,
            "object_fit": null,
            "object_position": null,
            "order": null,
            "overflow": null,
            "overflow_x": null,
            "overflow_y": null,
            "padding": null,
            "right": null,
            "top": null,
            "visibility": null,
            "width": null
          }
        },
        "68a4787dfd9a41c2b9126c2ed1a53a97": {
          "model_module": "@jupyter-widgets/controls",
          "model_name": "ProgressStyleModel",
          "model_module_version": "1.5.0",
          "state": {
            "_model_module": "@jupyter-widgets/controls",
            "_model_module_version": "1.5.0",
            "_model_name": "ProgressStyleModel",
            "_view_count": null,
            "_view_module": "@jupyter-widgets/base",
            "_view_module_version": "1.2.0",
            "_view_name": "StyleView",
            "bar_color": null,
            "description_width": ""
          }
        },
        "753392c1fdd840c5a949522cfc3a0d5a": {
          "model_module": "@jupyter-widgets/base",
          "model_name": "LayoutModel",
          "model_module_version": "1.2.0",
          "state": {
            "_model_module": "@jupyter-widgets/base",
            "_model_module_version": "1.2.0",
            "_model_name": "LayoutModel",
            "_view_count": null,
            "_view_module": "@jupyter-widgets/base",
            "_view_module_version": "1.2.0",
            "_view_name": "LayoutView",
            "align_content": null,
            "align_items": null,
            "align_self": null,
            "border": null,
            "bottom": null,
            "display": null,
            "flex": null,
            "flex_flow": null,
            "grid_area": null,
            "grid_auto_columns": null,
            "grid_auto_flow": null,
            "grid_auto_rows": null,
            "grid_column": null,
            "grid_gap": null,
            "grid_row": null,
            "grid_template_areas": null,
            "grid_template_columns": null,
            "grid_template_rows": null,
            "height": null,
            "justify_content": null,
            "justify_items": null,
            "left": null,
            "margin": null,
            "max_height": null,
            "max_width": null,
            "min_height": null,
            "min_width": null,
            "object_fit": null,
            "object_position": null,
            "order": null,
            "overflow": null,
            "overflow_x": null,
            "overflow_y": null,
            "padding": null,
            "right": null,
            "top": null,
            "visibility": null,
            "width": null
          }
        },
        "fcd950aecd2c4e2ebdad29f51c2f1bf3": {
          "model_module": "@jupyter-widgets/controls",
          "model_name": "DescriptionStyleModel",
          "model_module_version": "1.5.0",
          "state": {
            "_model_module": "@jupyter-widgets/controls",
            "_model_module_version": "1.5.0",
            "_model_name": "DescriptionStyleModel",
            "_view_count": null,
            "_view_module": "@jupyter-widgets/base",
            "_view_module_version": "1.2.0",
            "_view_name": "StyleView",
            "description_width": ""
          }
        }
      }
    }
  },
  "cells": [
    {
      "cell_type": "code",
      "execution_count": 7,
      "metadata": {
        "colab": {
          "base_uri": "https://localhost:8080/"
        },
        "id": "uYJzdXjbVJ4_",
        "outputId": "391cb879-19ff-4f6e-82ab-625db3b9fc37"
      },
      "outputs": [
        {
          "output_type": "stream",
          "name": "stdout",
          "text": [
            "Collecting transformers==3.0.2\n",
            "  Using cached transformers-3.0.2-py3-none-any.whl (769 kB)\n",
            "Requirement already satisfied: numpy in /usr/local/lib/python3.10/dist-packages (from transformers==3.0.2) (1.25.2)\n",
            "Collecting tokenizers==0.8.1.rc1 (from transformers==3.0.2)\n",
            "  Using cached tokenizers-0.8.1rc1.tar.gz (97 kB)\n",
            "  Installing build dependencies ... \u001b[?25l\u001b[?25hdone\n",
            "  Getting requirements to build wheel ... \u001b[?25l\u001b[?25hdone\n",
            "  Preparing metadata (pyproject.toml) ... \u001b[?25l\u001b[?25hdone\n",
            "Requirement already satisfied: packaging in /usr/local/lib/python3.10/dist-packages (from transformers==3.0.2) (24.0)\n",
            "Requirement already satisfied: filelock in /usr/local/lib/python3.10/dist-packages (from transformers==3.0.2) (3.14.0)\n",
            "Requirement already satisfied: requests in /usr/local/lib/python3.10/dist-packages (from transformers==3.0.2) (2.31.0)\n",
            "Requirement already satisfied: tqdm>=4.27 in /usr/local/lib/python3.10/dist-packages (from transformers==3.0.2) (4.66.4)\n",
            "Requirement already satisfied: regex!=2019.12.17 in /usr/local/lib/python3.10/dist-packages (from transformers==3.0.2) (2023.12.25)\n",
            "Requirement already satisfied: sentencepiece!=0.1.92 in /usr/local/lib/python3.10/dist-packages (from transformers==3.0.2) (0.1.99)\n",
            "Collecting sacremoses (from transformers==3.0.2)\n",
            "  Using cached sacremoses-0.1.1-py3-none-any.whl (897 kB)\n",
            "Requirement already satisfied: charset-normalizer<4,>=2 in /usr/local/lib/python3.10/dist-packages (from requests->transformers==3.0.2) (3.3.2)\n",
            "Requirement already satisfied: idna<4,>=2.5 in /usr/local/lib/python3.10/dist-packages (from requests->transformers==3.0.2) (3.7)\n",
            "Requirement already satisfied: urllib3<3,>=1.21.1 in /usr/local/lib/python3.10/dist-packages (from requests->transformers==3.0.2) (2.0.7)\n",
            "Requirement already satisfied: certifi>=2017.4.17 in /usr/local/lib/python3.10/dist-packages (from requests->transformers==3.0.2) (2024.2.2)\n",
            "Requirement already satisfied: click in /usr/local/lib/python3.10/dist-packages (from sacremoses->transformers==3.0.2) (8.1.7)\n",
            "Requirement already satisfied: joblib in /usr/local/lib/python3.10/dist-packages (from sacremoses->transformers==3.0.2) (1.4.2)\n",
            "Building wheels for collected packages: tokenizers\n",
            "  \u001b[1;31merror\u001b[0m: \u001b[1msubprocess-exited-with-error\u001b[0m\n",
            "  \n",
            "  \u001b[31m×\u001b[0m \u001b[32mBuilding wheel for tokenizers \u001b[0m\u001b[1;32m(\u001b[0m\u001b[32mpyproject.toml\u001b[0m\u001b[1;32m)\u001b[0m did not run successfully.\n",
            "  \u001b[31m│\u001b[0m exit code: \u001b[1;36m1\u001b[0m\n",
            "  \u001b[31m╰─>\u001b[0m See above for output.\n",
            "  \n",
            "  \u001b[1;35mnote\u001b[0m: This error originates from a subprocess, and is likely not a problem with pip.\n",
            "  Building wheel for tokenizers (pyproject.toml) ... \u001b[?25l\u001b[?25herror\n",
            "\u001b[31m  ERROR: Failed building wheel for tokenizers\u001b[0m\u001b[31m\n",
            "\u001b[0mFailed to build tokenizers\n",
            "\u001b[31mERROR: Could not build wheels for tokenizers, which is required to install pyproject.toml-based projects\u001b[0m\u001b[31m\n",
            "\u001b[0m"
          ]
        }
      ],
      "source": [
        "!pip install transformers==3.0.2"
      ]
    },
    {
      "cell_type": "code",
      "source": [
        "import numpy as np\n",
        "import pandas as pd\n",
        "import matplotlib.pyplot as plt\n",
        "import tensorflow as tf\n",
        "import spacy\n",
        "import re\n",
        "import string\n",
        "import nltk\n",
        "import torch\n",
        "import seaborn as sns\n",
        "import transformers\n",
        "import json\n",
        "import logging\n",
        "from collections import defaultdict\n",
        "import re\n",
        "import numpy as np\n",
        "import nltk\n",
        "from tensorflow import keras\n",
        "from tensorflow.keras.preprocessing.text import Tokenizer\n",
        "from tensorflow.keras.preprocessing.sequence import pad_sequences\n",
        "from tensorflow.keras import optimizers, layers\n",
        "from tensorflow.keras.models import Sequential\n",
        "from tensorflow.keras.layers import Dense, Embedding, Dropout, Flatten\n",
        "\n",
        "from sklearn.model_selection import train_test_split\n",
        "from sklearn.feature_extraction.text import CountVectorizer\n",
        "from sklearn.metrics import confusion_matrix, classification_report, accuracy_score, precision_score, recall_score, f1_score\n",
        "from sklearn.preprocessing import LabelEncoder\n",
        "from sklearn.feature_extraction.text import TfidfVectorizer\n",
        "from sklearn.model_selection import StratifiedKFold\n",
        "\n",
        "from torch import cuda\n",
        "from tqdm import tqdm\n",
        "from collections import Counter\n",
        "from torch.utils.data import Dataset, DataLoader\n",
        "from transformers import RobertaModel, RobertaTokenizer\n",
        "from sklearn.metrics import classification_report\n",
        "\n",
        "from nltk.stem import PorterStemmer\n",
        "nltk.download('punkt')\n",
        "logging.basicConfig(level=logging.ERROR)"
      ],
      "metadata": {
        "colab": {
          "base_uri": "https://localhost:8080/"
        },
        "id": "_S2Se8-1VRdO",
        "outputId": "523dea34-a8e2-450c-d778-95d756e6fd45"
      },
      "execution_count": 8,
      "outputs": [
        {
          "output_type": "stream",
          "name": "stderr",
          "text": [
            "[nltk_data] Downloading package punkt to /root/nltk_data...\n",
            "[nltk_data]   Package punkt is already up-to-date!\n"
          ]
        }
      ]
    },
    {
      "cell_type": "code",
      "source": [
        "df = pd.read_excel(\"/content/LabeledText.xlsx\")\n",
        "\n",
        "\"\"\"**Preprocessing**\"\"\"\n",
        "\n",
        "df_copy = df.copy()\n",
        "\n",
        "def lowercase(data):\n",
        "    return data['Caption'].str.lower()\n",
        "\n",
        "def change_punctuation(data):\n",
        "    return data['Caption'].str.replace('`', \"'\")\n",
        "\n",
        "def remove_numbers(data):\n",
        "    return data['Caption'].replace('[^a-zA-z.,!?/:;\\\"\\'\\s]', '', regex=True)\n",
        "\n",
        "def remove_special_characters(data):\n",
        "    return data['Caption'].replace('[^a-zA-Z0-9 ]', '', regex=True)\n",
        "\n",
        "def custom(data):\n",
        "    return data['Caption'].replace('im', 'i am')\n",
        "\n",
        "nlp = spacy.load(\"en_core_web_sm\")\n",
        "def lemmatize(data):\n",
        "    lemmatized_array = []\n",
        "\n",
        "    for text in data['Caption']:\n",
        "        lemmatized_text = []\n",
        "        doc = nlp(text)\n",
        "        for token in doc:\n",
        "            lemmatized_text.append(token.lemma_)\n",
        "        lemmatized_array.append(' '.join(lemmatized_text))\n",
        "    return lemmatized_array\n",
        "\n",
        "def stop_words(data):\n",
        "    stop_words_array = []\n",
        "    for text in data['Caption']:\n",
        "        doc = nlp(text)\n",
        "        filtered_tokens = [token.text for token in doc if not token.is_stop]\n",
        "        stop_words_array.append(' '.join(filtered_tokens))\n",
        "    return stop_words_array\n",
        "\n",
        "def stem_words(data):\n",
        "    stemmer = PorterStemmer()\n",
        "    stemmed_array = []\n",
        "    for text in data['Caption']:\n",
        "        tokens = nltk.word_tokenize(text)\n",
        "        stemmed_tokens = [stemmer.stem(token) for token in tokens]\n",
        "        stemmed_array.append(' '.join(stemmed_tokens))\n",
        "    return stemmed_array\n",
        "\n",
        "def delete_links(data):\n",
        "    return data['Caption'].replace(r'http\\S+', '', regex=True)\n",
        "\n",
        "def preprocessing(data):\n",
        "    df['Caption'] = lowercase(df)\n",
        "    df['Caption'] = custom(df)\n",
        "    df['Caption'] = change_punctuation(df)\n",
        "    df['Caption'] = lemmatize(df)\n",
        "    df['Caption'] = remove_numbers(df)\n",
        "    df['Caption'] = delete_links(df)\n",
        "    df['Caption'] = stem_words(df)\n",
        "    df['Caption'] = remove_special_characters(df)\n",
        "    return df\n",
        "\n",
        "df_copy = preprocessing(df_copy)"
      ],
      "metadata": {
        "id": "KJJ0GAZ3Vd-W"
      },
      "execution_count": 9,
      "outputs": []
    },
    {
      "cell_type": "code",
      "source": [
        "le = LabelEncoder()\n",
        "df_copy['LABEL'] = le.fit_transform(df_copy['LABEL'])\n",
        "df_copy\n",
        "\n",
        "X = df_copy['Caption']\n",
        "y = df_copy['LABEL']\n",
        "\n",
        "print(\"\\nTarget Labels:\",y)\n",
        "\n",
        "max_words = 800\n",
        "maxlen = 128\n",
        "training_samples = int(len(X)*0.8)\n",
        "\n",
        "text_dataset = tf.data.Dataset.from_tensor_slices(X)\n",
        "\n",
        "X_train, X_valid, y_train, y_valid = train_test_split(X, y, test_size=0.2, random_state=50)\n",
        "\n",
        "max_features = 15000\n",
        "\n",
        "vectorize_layer = tf.keras.layers.TextVectorization(\n",
        "        max_tokens=max_words, # Max number of word in the internal dictionnary. We keep the most frequent\n",
        "        output_mode='int',\n",
        "        output_sequence_length=maxlen  # Size max of text\n",
        "        )\n",
        "\n",
        "vectorize_layer.adapt(text_dataset.batch(64))\n",
        "\n",
        "voc = vectorize_layer.get_vocabulary()\n",
        "word_index = dict(zip(voc, range(len(voc))))\n",
        "c = 0\n",
        "for i,j in word_index.items():\n",
        "  print(i,j,end= \" \")\n",
        "  c += 1\n",
        "  if c==21 or c==42:\n",
        "    print(\"\\n\")"
      ],
      "metadata": {
        "colab": {
          "base_uri": "https://localhost:8080/"
        },
        "id": "yOKcTdTuVl4V",
        "outputId": "cc9cb0fa-09a1-4ddb-e0d9-32b9b09fc923"
      },
      "execution_count": 10,
      "outputs": [
        {
          "output_type": "stream",
          "name": "stdout",
          "text": [
            "\n",
            "Target Labels: 0       0\n",
            "1       0\n",
            "2       2\n",
            "3       1\n",
            "4       2\n",
            "       ..\n",
            "4864    2\n",
            "4865    2\n",
            "4866    1\n",
            "4867    1\n",
            "4868    2\n",
            "Name: LABEL, Length: 4869, dtype: int64\n",
            " 0 [UNK] 1 rt 2 be 3 the 4 a 5 to 6 i 7 of 8 in 9 and 10 you 11 thi 12 for 13 my 14 on 15 by 16 not 17 it 18 have 19 s 20 \n",
            "\n",
            "with 21 do 22 at 23 get 24 so 25 we 26 love 27 happi 28 that 29 your 30 day 31 he 32 from 33 new 34 when 35 take 36 but 37 like 38 can 39 out 40 just 41 \n",
            "\n",
            "feel 42 all 43 they 44 whi 45 today 46 black 47 up 48 look 49 will 50 as 51 go 52 an 53 one 54 how 55 what 56 hi 57 about 58 see 59 she 60 our 61 make 62 no 63 depress 64 after 65 who 66 man 67 beauti 68 if 69 year 70 night 71 now 72 good 73 here 74 quiz 75 time 76 finish 77 valentin 78 more 79 abandon 80 http 81 come 82 find 83 life 84 passion 85 de 86 or 87 much 88 photo 89 thank 90 last 91 heart 92 excit 93 m 94 cut 95 well 96 these 97 there 98 htt 99 u 100 still 101 their 102 leav 103 girl 104 x 105 know 106 crazi 107 fear 108 wild 109 strong 110 distress 111 over 112 onli 113 dog 114 care 115 some 116 help 117 woman 118 peopl 119 her 120 fun 121 think 122 back 123 want 124 vibrant 125 break 126 beat 127 world 128 via 129 first 130 blue 131 old 132 most 133 live 134 h 135 even 136 say 137 delight 138 work 139 read 140 heat 141 empti 142 winter 143 turn 144 off 145 n 146 burn 147 great 148 full 149 damag 150 littl 151 home 152 gloomi 153 birthday 154 la 155 white 156 friend 157 win 158 other 159 medium 160 week 161 watch 162 pictur 163 fan 164 cat 165 w 166 never 167 need 168 let 169 ht 170 hair 171 too 172 t 173 into 174 februari 175 art 176 way 177 use 178 show 179 run 180 meet 181 intens 182 ecstat 183 blemish 184 amaz 185 would 186 right 187 pic 188 top 189 posit 190 hot 191 energet 192 guy 193 down 194 destroy 195 tortur 196 realli 197 r 198 expos 199 enthusiast 200 devot 201 crush 202 video 203 thrill 204 th 205 o 206 free 207 e 208 disgrac 209 car 210 walk 211 veri 212 two 213 team 214 set 215 play 216 part 217 overjoy 218 desert 219 d 220 book 221 alway 222 parti 223 god 224 face 225 child 226 windi 227 thing 228 raini 229 hurt 230 hope 231 game 232 follow 233 deal 234 calm 235 befor 236 wrong 237 while 238 stormi 239 ruin 240 paralyz 241 lose 242 light 243 k 244 joy 245 give 246 furiou 247 evil 248 elat 249 confus 250 big 251 tuesday 252 then 253 start 254 speechless 255 sign 256 sad 257 petrifi 258 desper 259 cheer 260 b 261 tri 262 someon 263 scorn 264 post 265 p 266 miss 267 eye 268 check 269 box 270 bodi 271 babi 272 where 273 trap 274 than 275 tell 276 summer 277 shock 278 pleas 279 music 280 morn 281 learn 282 kind 283 end 284 dark 285 call 286 buy 287 bleed 288 bleak 289 tonight 290 stop 291 outcast 292 news 293 may 294 final 295 ever 296 citi 297 c 298 again 299 train 300 power 301 kid 302 hous 303 grim 304 everi 305 el 306 devast 307 cute 308 crippl 309 could 310 coffe 311 boy 312 bad 313 away 314 anim 315 zippi 316 whip 317 should 318 shame 319 shake 320 second 321 mix 322 high 323 head 324 everyon 325 anoth 326 anger 327 zealou 328 xd 329 wash 330 tire 331 throw 332 storm 333 red 334 real 335 perfect 336 paint 337 flaw 338 fit 339 fast 340 en 341 desol 342 death 343 becaus 344 wick 345 wait 346 us 347 uk 348 someth 349 soft 350 small 351 ride 352 natur 353 mind 354 mani 355 isol 356 happen 357 famili 358 ebay 359 dizzi 360 dismal 361 die 362 compassion 363 un 364 super 365 stun 366 stand 367 size 368 shoot 369 share 370 room 371 retweet 372 reel 373 quot 374 own 375 offic 376 nice 377 moment 378 judg 379 horrifi 380 enjoy 381 elev 382 discard 383 cold 384 worthless 385 worri 386 wonder 387 which 388 wednesday 389 vote 390 twitter 391 state 392 star 393 reject 394 readi 395 next 396 maroon 397 inspir 398 dure 399 chaotic 400 bring 401 awesom 402 around 403 ye 404 sweet 405 stori 406 st 407 singl 408 silver 409 pm 410 person 411 pay 412 must 413 lot 414 long 415 london 416 hopeless 417 harri 418 forsak 419 fluster 420 design 421 cool 422 colour 423 bitter 424 bit 425 yesterday 426 visit 427 upset 428 sparkl 429 song 430 snow 431 smile 432 selfi 433 movi 434 low 435 l 436 g 437 dad 438 cri 439 celebr 440 caus 441 band 442 attack 443 zero 444 water 445 view 446 those 447 talk 448 support 449 stab 450 sister 451 polic 452 oh 453 lol 454 listen 455 leather 456 kill 457 intimid 458 imag 459 helpless 460 fuck 461 fish 462 euphor 463 dream 464 draw 465 dote 466 dead 467 beach 468 announc 469 ani 470 yr 471 wear 472 valentinesday 473 true 474 travel 475 thunderstruck 476 stump 477 short 478 seri 479 self 480 school 481 rock 482 park 483 outrag 484 invalid 485 insid 486 hour 487 half 488 fire 489 f 490 defeat 491 color 492 close 493 blog 494 behind 495 becom 496 barren 497 bag 498 album 499 aglow 500 abus 501 word 502 without 503 until 504 soon 505 shop 506 sexi 507 sea 508 rememb 509 que 510 puppi 511 print 512 powerless 513 poor 514 place 515 pixiv 516 photographi 517 neglect 518 mean 519 match 520 ladi 521 jean 522 hey 523 frighten 524 forest 525 few 526 festiv 527 favorit 528 fals 529 eat 530 despond 531 cover 532 commun 533 class 534 chang 535 cake 536 build 537 ask 538 anyon 539 young 540 yet 541 y 542 wish 543 winner 544 wimbledon 545 usa 546 terrifi 547 street 548 shoe 549 sell 550 sale 551 rescu 552 pretti 553 pain 554 onlin 555 mock 556 million 557 market 558 loneli 559 keep 560 jesu 561 idea 562 hell 563 hear 564 hand 565 gift 566 fume 567 film 568 fashion 569 enough 570 drive 571 dress 572 blotch 573 bless 574 arriv 575 also 576 ach 577 write 578 wreck 579 wound 580 worship 581 vs 582 vintag 583 tweet 584 total 585 tomorrow 586 system 587 suicid 588 spot 589 speak 590 sky 591 side 592 save 593 reason 594 proud 595 phone 596 overwhelm 597 order 598 open 599 offer 600 nyc 601 myself 602 mr 603 mortifi 604 human 605 hotel 606 hate 607 grow 608 group 609 grey 610 gold 611 forget 612 fall 613 church 614 cherish 615 busi 616 buoyant 617 brother 618 bc 619 appal 620 adopt 621 absolut 622 ya 623 van 624 v 625 ur 626 tv 627 thin 628 talent 629 sure 630 sunday 631 such 632 stopbokn 633 sterl 634 sin 635 shit 636 sex 637 send 638 seat 639 scream 640 safe 641 road 642 record 643 recent 644 re 645 put 646 presid 647 pack 648 obama 649 mom 650 mm 651 minut 652 lo 653 lead 654 le 655 late 656 infatu 657 hors 658 hold 659 histori 660 gener 661 gb 662 front 663 fill 664 featur 665 everyth 666 ear 667 disney 668 delinqu 669 da 670 crowd 671 con 672 complet 673 chocol 674 card 675 believ 676 artist 677 anxieti 678 ana 679 aliv 680 al 681 against 682 wow 683 workout 684 william 685 wife 686 tree 687 though 688 tattoo 689 student 690 stay 691 shirt 692 shade 693 secret 694 sdcc 695 rise 696 review 697 rattl 698 rape 699 pump 700 protest 701 point 702 pli 703 parent 704 para 705 noth 706 nd 707 name 708 month 709 might 710 memori 711 loui 712 list 713 join 714 job 715 impot 716 imperfect 717 ice 718 grain 719 gorgeou 720 genuin 721 forev 722 food 723 flower 724 fight 725 far 726 experi 727 ep 728 emot 729 each 730 deject 731 david 732 danc 733 cours 734 countri 735 chair 736 bitch 737 ardent 738 angel 739 alon 740 almost 741 actual 742 aback 743 yourself 744 women 745 west 746 weekend 747 troubl 748 treat 749 togeth 750 tip 751 thought 752 teen 753 te 754 su 755 special 756 soul 757 skittish 758 skin 759 sit 760 sing 761 sinc 762 shun 763 shot 764 session 765 scare 766 same 767 releas 768 rare 769 rais 770 race 771 product 772 possibl 773 pop 774 perform 775 onc 776 note 777 na 778 move 779 money 780 model 781 mirror 782 michael 783 manag 784 line 785 lie 786 later 787 juli 788 inferior 789 india 790 hp 791 hero 792 health 793 harryappreciationday 794 hard 795 haha 796 guid 797 grammi 798 glass 799 "
          ]
        }
      ]
    },
    {
      "cell_type": "markdown",
      "source": [
        "**Model1**"
      ],
      "metadata": {
        "id": "8lBFF2z6bhWK"
      }
    },
    {
      "cell_type": "code",
      "source": [
        "model1 = keras.Sequential([\n",
        "    layers.Input(shape=(1,), dtype=tf.string),\n",
        "    vectorize_layer,\n",
        "    layers.Embedding(\n",
        "        input_dim=max_words,\n",
        "        output_dim=50,\n",
        "        input_length=maxlen\n",
        "    ),\n",
        "    layers.Bidirectional(layers.GRU(128, return_sequences=True)),\n",
        "    layers.GlobalMaxPooling1D(),\n",
        "    Dense(256, activation='relu'),\n",
        "    Dropout(0.5),\n",
        "    Dense(128, activation='relu'),\n",
        "    Dense(64, activation='relu'),\n",
        "    Dense(32, activation='relu'),\n",
        "    Dropout(0.4), #81, 0.5\n",
        "    Dense(3, activation='softmax'),\n",
        "])\n",
        "\n",
        "\n",
        "model1.compile(loss='sparse_categorical_crossentropy', optimizer='adam', metrics=['accuracy'])\n",
        "\n",
        "cl = [tf.keras.callbacks.EarlyStopping(monitor='val_accuracy', restore_best_weights=True, patience=9)]"
      ],
      "metadata": {
        "id": "ZfVAqEXkW3gY"
      },
      "execution_count": 11,
      "outputs": []
    },
    {
      "cell_type": "code",
      "source": [
        "model1.summary()"
      ],
      "metadata": {
        "colab": {
          "base_uri": "https://localhost:8080/"
        },
        "id": "eayt3OVEYCRV",
        "outputId": "de31ecf7-625e-4b43-9f5f-26217411a6c5"
      },
      "execution_count": 12,
      "outputs": [
        {
          "output_type": "stream",
          "name": "stdout",
          "text": [
            "Model: \"sequential\"\n",
            "_________________________________________________________________\n",
            " Layer (type)                Output Shape              Param #   \n",
            "=================================================================\n",
            " text_vectorization (TextVe  (None, 128)               0         \n",
            " ctorization)                                                    \n",
            "                                                                 \n",
            " embedding (Embedding)       (None, 128, 50)           40000     \n",
            "                                                                 \n",
            " bidirectional (Bidirection  (None, 128, 256)          138240    \n",
            " al)                                                             \n",
            "                                                                 \n",
            " global_max_pooling1d (Glob  (None, 256)               0         \n",
            " alMaxPooling1D)                                                 \n",
            "                                                                 \n",
            " dense (Dense)               (None, 256)               65792     \n",
            "                                                                 \n",
            " dropout (Dropout)           (None, 256)               0         \n",
            "                                                                 \n",
            " dense_1 (Dense)             (None, 128)               32896     \n",
            "                                                                 \n",
            " dense_2 (Dense)             (None, 64)                8256      \n",
            "                                                                 \n",
            " dense_3 (Dense)             (None, 32)                2080      \n",
            "                                                                 \n",
            " dropout_1 (Dropout)         (None, 32)                0         \n",
            "                                                                 \n",
            " dense_4 (Dense)             (None, 3)                 99        \n",
            "                                                                 \n",
            "=================================================================\n",
            "Total params: 287363 (1.10 MB)\n",
            "Trainable params: 287363 (1.10 MB)\n",
            "Non-trainable params: 0 (0.00 Byte)\n",
            "_________________________________________________________________\n"
          ]
        }
      ]
    },
    {
      "cell_type": "code",
      "source": [
        "history = model1.fit(X_train, y_train, validation_data=(X_valid, y_valid), epochs=250, batch_size=60, callbacks = cl)"
      ],
      "metadata": {
        "colab": {
          "base_uri": "https://localhost:8080/"
        },
        "id": "5PGVJ-_FYHbD",
        "outputId": "becf5750-c609-4b0c-f2c0-1a9e816cbbf8"
      },
      "execution_count": 13,
      "outputs": [
        {
          "output_type": "stream",
          "name": "stdout",
          "text": [
            "Epoch 1/250\n",
            "65/65 [==============================] - 29s 283ms/step - loss: 1.0846 - accuracy: 0.3959 - val_loss: 1.0389 - val_accuracy: 0.4476\n",
            "Epoch 2/250\n",
            "65/65 [==============================] - 7s 115ms/step - loss: 0.9203 - accuracy: 0.5594 - val_loss: 0.8720 - val_accuracy: 0.5955\n",
            "Epoch 3/250\n",
            "65/65 [==============================] - 5s 79ms/step - loss: 0.7940 - accuracy: 0.6524 - val_loss: 0.7988 - val_accuracy: 0.6335\n",
            "Epoch 4/250\n",
            "65/65 [==============================] - 4s 57ms/step - loss: 0.7081 - accuracy: 0.7137 - val_loss: 0.7405 - val_accuracy: 0.6561\n",
            "Epoch 5/250\n",
            "65/65 [==============================] - 2s 36ms/step - loss: 0.6540 - accuracy: 0.7448 - val_loss: 0.7835 - val_accuracy: 0.6869\n",
            "Epoch 6/250\n",
            "65/65 [==============================] - 4s 63ms/step - loss: 0.5918 - accuracy: 0.7661 - val_loss: 0.7677 - val_accuracy: 0.7023\n",
            "Epoch 7/250\n",
            "65/65 [==============================] - 2s 34ms/step - loss: 0.5447 - accuracy: 0.7897 - val_loss: 0.7847 - val_accuracy: 0.6961\n",
            "Epoch 8/250\n",
            "65/65 [==============================] - 2s 28ms/step - loss: 0.4982 - accuracy: 0.8100 - val_loss: 0.7896 - val_accuracy: 0.7012\n",
            "Epoch 9/250\n",
            "65/65 [==============================] - 1s 19ms/step - loss: 0.4637 - accuracy: 0.8234 - val_loss: 0.9182 - val_accuracy: 0.6961\n",
            "Epoch 10/250\n",
            "65/65 [==============================] - 1s 19ms/step - loss: 0.4347 - accuracy: 0.8485 - val_loss: 0.9159 - val_accuracy: 0.6982\n",
            "Epoch 11/250\n",
            "65/65 [==============================] - 1s 22ms/step - loss: 0.3968 - accuracy: 0.8488 - val_loss: 0.9130 - val_accuracy: 0.6797\n",
            "Epoch 12/250\n",
            "65/65 [==============================] - 1s 17ms/step - loss: 0.3762 - accuracy: 0.8639 - val_loss: 0.9653 - val_accuracy: 0.6756\n",
            "Epoch 13/250\n",
            "65/65 [==============================] - 1s 22ms/step - loss: 0.3493 - accuracy: 0.8755 - val_loss: 1.2307 - val_accuracy: 0.6807\n",
            "Epoch 14/250\n",
            "65/65 [==============================] - 1s 20ms/step - loss: 0.3346 - accuracy: 0.8824 - val_loss: 1.2152 - val_accuracy: 0.6786\n",
            "Epoch 15/250\n",
            "65/65 [==============================] - 2s 27ms/step - loss: 0.2915 - accuracy: 0.8958 - val_loss: 1.4172 - val_accuracy: 0.6879\n"
          ]
        }
      ]
    },
    {
      "cell_type": "code",
      "source": [
        "history_frame = pd.DataFrame(history.history)\n",
        "history_frame.loc[:, ['loss', 'val_loss']].plot()\n",
        "print(\"\\n\")\n",
        "history_frame.loc[:, ['accuracy', 'val_accuracy']].plot()\n",
        "\n",
        "predictions = model1.predict(X_valid)\n",
        "predicted_labels = np.argmax(predictions, axis=1)\n",
        "\n",
        "accu = accuracy_score(predicted_labels, y_valid)\n",
        "pre = precision_score(predicted_labels, y_valid,average = \"weighted\")\n",
        "f1 = f1_score(predicted_labels, y_valid,average = \"weighted\")\n",
        "print(\"Accuracy:\",accu)\n",
        "print(\"\\nPrecision:\",pre)\n",
        "print(\"\\nF1-Score:\",f1)"
      ],
      "metadata": {
        "colab": {
          "base_uri": "https://localhost:8080/",
          "height": 982
        },
        "id": "_KVhtiOjYY5j",
        "outputId": "b77971d4-1e9b-4a42-f31c-e0993d3b417f"
      },
      "execution_count": 14,
      "outputs": [
        {
          "output_type": "stream",
          "name": "stdout",
          "text": [
            "\n",
            "\n",
            "31/31 [==============================] - 1s 9ms/step\n",
            "Accuracy: 0.702258726899384\n",
            "\n",
            "Precision: 0.7035154407604743\n",
            "\n",
            "F1-Score: 0.6996556415727417\n"
          ]
        },
        {
          "output_type": "display_data",
          "data": {
            "text/plain": [
              "<Figure size 640x480 with 1 Axes>"
            ],
            "image/png": "[encoded data removed]"
          },
          "metadata": {}
        },
        {
          "output_type": "display_data",
          "data": {
            "text/plain": [
              "<Figure size 640x480 with 1 Axes>"
            ],
            "image/png": "[encoded data removed]"
          },
          "metadata": {}
        }
      ]
    },
    {
      "cell_type": "code",
      "source": [
        "accu"
      ],
      "metadata": {
        "colab": {
          "base_uri": "https://localhost:8080/"
        },
        "id": "88e4XpR4pPmX",
        "outputId": "7337a06e-f1f2-4aef-8a36-9dee8350ae72"
      },
      "execution_count": 15,
      "outputs": [
        {
          "output_type": "execute_result",
          "data": {
            "text/plain": [
              "0.702258726899384"
            ]
          },
          "metadata": {},
          "execution_count": 15
        }
      ]
    },
    {
      "cell_type": "code",
      "source": [
        "metrics_dict = {}\n",
        "\n",
        "# Store metrics\n",
        "metrics_dict['Model 1'] = {'Accuracy': accu, 'Precision': pre, 'F1-Score': f1}\n",
        "\n",
        "print(metrics_dict)"
      ],
      "metadata": {
        "colab": {
          "base_uri": "https://localhost:8080/"
        },
        "id": "pSuPaYUZa5cg",
        "outputId": "4b8d1266-275a-4a07-8ae1-6b31cf5ab297"
      },
      "execution_count": 16,
      "outputs": [
        {
          "output_type": "stream",
          "name": "stdout",
          "text": [
            "{'Model 1': {'Accuracy': 0.702258726899384, 'Precision': 0.7035154407604743, 'F1-Score': 0.6996556415727417}}\n"
          ]
        }
      ]
    },
    {
      "cell_type": "code",
      "source": [
        "# Define number of folds\n",
        "k_folds = 5\n",
        "# Initialize lists to store results\n",
        "accuracy_scores = []\n",
        "precision_scores = []\n",
        "f1_scores = []\n",
        "\n",
        "# Initialize StratifiedKFold\n",
        "skf = StratifiedKFold(n_splits=k_folds, shuffle=True, random_state=50)\n",
        "\n",
        "# Perform k-fold cross-validation\n",
        "for train_index, test_index in skf.split(X, y):\n",
        "    X_train_fold, X_valid_fold = X.iloc[train_index], X.iloc[test_index]\n",
        "    y_train_fold, y_valid_fold = y.iloc[train_index], y.iloc[test_index]\n",
        "\n",
        "    # Create a new instance of the TextVectorization layer and fit it on the training data\n",
        "    vectorize_layer_fold = tf.keras.layers.TextVectorization(\n",
        "        max_tokens=max_words,\n",
        "        output_mode='int',\n",
        "        output_sequence_length=maxlen\n",
        "    )\n",
        "    vectorize_layer_fold.adapt(X_train_fold.values)\n",
        "\n",
        "    # Clone the model to reset the weights\n",
        "    model_clone = keras.models.clone_model(model1)\n",
        "\n",
        "    # Rebuild the model with the new TextVectorization layer\n",
        "    model_clone = keras.Sequential([\n",
        "        layers.Input(shape=(1,), dtype=tf.string),\n",
        "        vectorize_layer_fold,\n",
        "        layers.Embedding(\n",
        "            input_dim=max_words,\n",
        "            output_dim=50,\n",
        "            input_length=maxlen\n",
        "        ),\n",
        "        layers.Bidirectional(layers.GRU(128, return_sequences=True)),\n",
        "        layers.GlobalMaxPooling1D(),\n",
        "        Dense(256, activation='relu'),\n",
        "        Dropout(0.5),\n",
        "        Dense(128, activation='relu'),\n",
        "        Dense(64, activation='relu'),\n",
        "        Dense(32, activation='relu'),\n",
        "        Dropout(0.4),\n",
        "        Dense(3, activation='softmax'),\n",
        "    ])\n",
        "\n",
        "    model_clone.compile(loss='sparse_categorical_crossentropy', optimizer='adam', metrics=['accuracy'])\n",
        "\n",
        "    # Fit the model on the current fold\n",
        "    history_fold = model_clone.fit(X_train_fold, y_train_fold, validation_data=(X_valid_fold, y_valid_fold),\n",
        "                                    epochs=250, batch_size=60, callbacks = cl, verbose=0)\n",
        "\n",
        "    # Evaluate the model on the current fold\n",
        "    predictions_fold = model_clone.predict(X_valid_fold)\n",
        "    predicted_labels_fold = np.argmax(predictions_fold, axis=1)\n",
        "\n",
        "    accu_fold = accuracy_score(predicted_labels_fold, y_valid_fold)\n",
        "    pre_fold = precision_score(predicted_labels_fold, y_valid_fold,average = \"weighted\")\n",
        "    f1_fold = f1_score(predicted_labels_fold, y_valid_fold,average = \"weighted\")\n",
        "\n",
        "    accuracy_scores.append(accu_fold)\n",
        "    precision_scores.append(pre_fold)\n",
        "    f1_scores.append(f1_fold)"
      ],
      "metadata": {
        "colab": {
          "base_uri": "https://localhost:8080/"
        },
        "id": "MUAcGTwrLDWM",
        "outputId": "58ce5b02-fce8-4259-a150-443a91d8d7e0"
      },
      "execution_count": 17,
      "outputs": [
        {
          "output_type": "stream",
          "name": "stdout",
          "text": [
            "31/31 [==============================] - 1s 6ms/step\n",
            "31/31 [==============================] - 1s 6ms/step\n",
            "31/31 [==============================] - 1s 6ms/step\n",
            "31/31 [==============================] - 1s 6ms/step\n",
            "31/31 [==============================] - 1s 6ms/step\n"
          ]
        }
      ]
    },
    {
      "cell_type": "code",
      "source": [
        "accuracy_mean = np.mean(accuracy_scores)\n",
        "accuracy_std = np.std(accuracy_scores)\n",
        "precision_mean = np.mean(precision_scores)\n",
        "precision_std = np.std(precision_scores)\n",
        "f1_mean = np.mean(f1_scores)\n",
        "f1_std = np.std(f1_scores)\n",
        "\n",
        "# Print mean and standard deviation\n",
        "print(\"Mean Accuracy:\", accuracy_mean)\n",
        "print(\"Standard Deviation Accuracy:\", accuracy_std)\n",
        "print(\"Mean Precision:\", precision_mean)\n",
        "print(\"Standard Deviation Precision:\", precision_std)\n",
        "print(\"Mean F1-Score:\", f1_mean)\n",
        "print(\"Standard Deviation F1-Score:\", f1_std)"
      ],
      "metadata": {
        "colab": {
          "base_uri": "https://localhost:8080/"
        },
        "id": "SK-Q4ntaLGYl",
        "outputId": "42e94ab1-b564-4007-aa71-9f36669832e8"
      },
      "execution_count": 18,
      "outputs": [
        {
          "output_type": "stream",
          "name": "stdout",
          "text": [
            "Mean Accuracy: 0.6908977716624003\n",
            "Standard Deviation Accuracy: 0.010727736013624034\n",
            "Mean Precision: 0.6971773163144644\n",
            "Standard Deviation Precision: 0.005759607954608008\n",
            "Mean F1-Score: 0.6921454704270417\n",
            "Standard Deviation F1-Score: 0.009282924035975406\n"
          ]
        }
      ]
    },
    {
      "cell_type": "code",
      "source": [
        "accu = accuracy_mean\n",
        "pre = precision_mean\n",
        "f1 = f1_std"
      ],
      "metadata": {
        "id": "fVLtq6cztP58"
      },
      "execution_count": 54,
      "outputs": []
    },
    {
      "cell_type": "markdown",
      "source": [
        "**RoBERTa**"
      ],
      "metadata": {
        "id": "zZkRzIkubafi"
      }
    },
    {
      "cell_type": "code",
      "source": [
        "from torch import cuda\n",
        "device = 'cuda' if cuda.is_available() else 'cpu'"
      ],
      "metadata": {
        "id": "y9N8JBlxalXj"
      },
      "execution_count": 19,
      "outputs": []
    },
    {
      "cell_type": "code",
      "source": [
        "train = pd.read_excel(\"/content/LabeledText.xlsx\")"
      ],
      "metadata": {
        "id": "jvXWI2AJbZxV"
      },
      "execution_count": 20,
      "outputs": []
    },
    {
      "cell_type": "code",
      "source": [
        "train"
      ],
      "metadata": {
        "colab": {
          "base_uri": "https://localhost:8080/",
          "height": 424
        },
        "id": "U2j48jpHkfTw",
        "outputId": "b4924e02-04b8-4bbd-8825-11bf7932b7d2"
      },
      "execution_count": 21,
      "outputs": [
        {
          "output_type": "execute_result",
          "data": {
            "text/plain": [
              "     File Name                                            Caption     LABEL\n",
              "0        1.txt      How I feel today #legday #jelly #aching #gym   negative\n",
              "1       10.txt  @ArrivaTW absolute disgrace two carriages from...  negative\n",
              "2      100.txt  This is my Valentine's from 1 of my nephews. I...  positive\n",
              "3     1000.txt  betterfeelingfilms: RT via Instagram: First da...   neutral\n",
              "4     1001.txt         Zoe's first love #Rattled @JohnnyHarper15   positive\n",
              "...        ...                                                ...       ...\n",
              "4864   995.txt  OMG. Well done #Eskom! 'Man dies during #LoadS...  positive\n",
              "4865   996.txt  Feelin' the love in here! #ValentinesDay #caring   positive\n",
              "4866   997.txt                      #blue #eyes can't be #beaten    neutral\n",
              "4867   998.txt              LA CHUCHA LOUUU TE CHUPO LOS OJOS..!    neutral\n",
              "4868   999.txt  #colorsplash_bw #zealous Remedios #herbales y ...  positive\n",
              "\n",
              "[4869 rows x 3 columns]"
            ],
            "text/html": [
              "\n",
              "  <div id=\"df-22f00786-97f0-4ac8-90fb-1acc69b68a35\" class=\"colab-df-container\">\n",
              "    <div>\n",
              "<style scoped>\n",
              "    .dataframe tbody tr th:only-of-type {\n",
              "        vertical-align: middle;\n",
              "    }\n",
              "\n",
              "    .dataframe tbody tr th {\n",
              "        vertical-align: top;\n",
              "    }\n",
              "\n",
              "    .dataframe thead th {\n",
              "        text-align: right;\n",
              "    }\n",
              "</style>\n",
              "<table border=\"1\" class=\"dataframe\">\n",
              "  <thead>\n",
              "    <tr style=\"text-align: right;\">\n",
              "      <th></th>\n",
              "      <th>File Name</th>\n",
              "      <th>Caption</th>\n",
              "      <th>LABEL</th>\n",
              "    </tr>\n",
              "  </thead>\n",
              "  <tbody>\n",
              "    <tr>\n",
              "      <th>0</th>\n",
              "      <td>1.txt</td>\n",
              "      <td>How I feel today #legday #jelly #aching #gym</td>\n",
              "      <td>negative</td>\n",
              "    </tr>\n",
              "    <tr>\n",
              "      <th>1</th>\n",
              "      <td>10.txt</td>\n",
              "      <td>@ArrivaTW absolute disgrace two carriages from...</td>\n",
              "      <td>negative</td>\n",
              "    </tr>\n",
              "    <tr>\n",
              "      <th>2</th>\n",
              "      <td>100.txt</td>\n",
              "      <td>This is my Valentine's from 1 of my nephews. I...</td>\n",
              "      <td>positive</td>\n",
              "    </tr>\n",
              "    <tr>\n",
              "      <th>3</th>\n",
              "      <td>1000.txt</td>\n",
              "      <td>betterfeelingfilms: RT via Instagram: First da...</td>\n",
              "      <td>neutral</td>\n",
              "    </tr>\n",
              "    <tr>\n",
              "      <th>4</th>\n",
              "      <td>1001.txt</td>\n",
              "      <td>Zoe's first love #Rattled @JohnnyHarper15</td>\n",
              "      <td>positive</td>\n",
              "    </tr>\n",
              "    <tr>\n",
              "      <th>...</th>\n",
              "      <td>...</td>\n",
              "      <td>...</td>\n",
              "      <td>...</td>\n",
              "    </tr>\n",
              "    <tr>\n",
              "      <th>4864</th>\n",
              "      <td>995.txt</td>\n",
              "      <td>OMG. Well done #Eskom! 'Man dies during #LoadS...</td>\n",
              "      <td>positive</td>\n",
              "    </tr>\n",
              "    <tr>\n",
              "      <th>4865</th>\n",
              "      <td>996.txt</td>\n",
              "      <td>Feelin' the love in here! #ValentinesDay #caring</td>\n",
              "      <td>positive</td>\n",
              "    </tr>\n",
              "    <tr>\n",
              "      <th>4866</th>\n",
              "      <td>997.txt</td>\n",
              "      <td>#blue #eyes can't be #beaten</td>\n",
              "      <td>neutral</td>\n",
              "    </tr>\n",
              "    <tr>\n",
              "      <th>4867</th>\n",
              "      <td>998.txt</td>\n",
              "      <td>LA CHUCHA LOUUU TE CHUPO LOS OJOS..!</td>\n",
              "      <td>neutral</td>\n",
              "    </tr>\n",
              "    <tr>\n",
              "      <th>4868</th>\n",
              "      <td>999.txt</td>\n",
              "      <td>#colorsplash_bw #zealous Remedios #herbales y ...</td>\n",
              "      <td>positive</td>\n",
              "    </tr>\n",
              "  </tbody>\n",
              "</table>\n",
              "<p>4869 rows × 3 columns</p>\n",
              "</div>\n",
              "    <div class=\"colab-df-buttons\">\n",
              "\n",
              "  <div class=\"colab-df-container\">\n",
              "    <button class=\"colab-df-convert\" onclick=\"convertToInteractive('df-22f00786-97f0-4ac8-90fb-1acc69b68a35')\"\n",
              "            title=\"Convert this dataframe to an interactive table.\"\n",
              "            style=\"display:none;\">\n",
              "\n",
              "  <svg xmlns=\"http://www.w3.org/2000/svg\" height=\"24px\" viewBox=\"0 -960 960 960\">\n",
              "    <path d=\"M120-120v-720h720v720H120Zm60-500h600v-160H180v160Zm220 220h160v-160H400v160Zm0 220h160v-160H400v160ZM180-400h160v-160H180v160Zm440 0h160v-160H620v160ZM180-180h160v-160H180v160Zm440 0h160v-160H620v160Z\"/>\n",
              "  </svg>\n",
              "    </button>\n",
              "\n",
              "  <style>\n",
              "    .colab-df-container {\n",
              "      display:flex;\n",
              "      gap: 12px;\n",
              "    }\n",
              "\n",
              "    .colab-df-convert {\n",
              "      background-color: #E8F0FE;\n",
              "      border: none;\n",
              "      border-radius: 50%;\n",
              "      cursor: pointer;\n",
              "      display: none;\n",
              "      fill: #1967D2;\n",
              "      height: 32px;\n",
              "      padding: 0 0 0 0;\n",
              "      width: 32px;\n",
              "    }\n",
              "\n",
              "    .colab-df-convert:hover {\n",
              "      background-color: #E2EBFA;\n",
              "      box-shadow: 0px 1px 2px rgba(60, 64, 67, 0.3), 0px 1px 3px 1px rgba(60, 64, 67, 0.15);\n",
              "      fill: #174EA6;\n",
              "    }\n",
              "\n",
              "    .colab-df-buttons div {\n",
              "      margin-bottom: 4px;\n",
              "    }\n",
              "\n",
              "    [theme=dark] .colab-df-convert {\n",
              "      background-color: #3B4455;\n",
              "      fill: #D2E3FC;\n",
              "    }\n",
              "\n",
              "    [theme=dark] .colab-df-convert:hover {\n",
              "      background-color: #434B5C;\n",
              "      box-shadow: 0px 1px 3px 1px rgba(0, 0, 0, 0.15);\n",
              "      filter: drop-shadow(0px 1px 2px rgba(0, 0, 0, 0.3));\n",
              "      fill: #FFFFFF;\n",
              "    }\n",
              "  </style>\n",
              "\n",
              "    <script>\n",
              "      const buttonEl =\n",
              "        document.querySelector('#df-22f00786-97f0-4ac8-90fb-1acc69b68a35 button.colab-df-convert');\n",
              "      buttonEl.style.display =\n",
              "        google.colab.kernel.accessAllowed ? 'block' : 'none';\n",
              "\n",
              "      async function convertToInteractive(key) {\n",
              "        const element = document.querySelector('#df-22f00786-97f0-4ac8-90fb-1acc69b68a35');\n",
              "        const dataTable =\n",
              "          await google.colab.kernel.invokeFunction('convertToInteractive',\n",
              "                                                    [key], {});\n",
              "        if (!dataTable) return;\n",
              "\n",
              "        const docLinkHtml = 'Like what you see? Visit the ' +\n",
              "          '<a target=\"_blank\" href=https://colab.research.google.com/notebooks/data_table.ipynb>data table notebook</a>'\n",
              "          + ' to learn more about interactive tables.';\n",
              "        element.innerHTML = '';\n",
              "        dataTable['output_type'] = 'display_data';\n",
              "        await google.colab.output.renderOutput(dataTable, element);\n",
              "        const docLink = document.createElement('div');\n",
              "        docLink.innerHTML = docLinkHtml;\n",
              "        element.appendChild(docLink);\n",
              "      }\n",
              "    </script>\n",
              "  </div>\n",
              "\n",
              "\n",
              "<div id=\"df-45089f90-e71f-474e-bc58-223c9e0869ba\">\n",
              "  <button class=\"colab-df-quickchart\" onclick=\"quickchart('df-45089f90-e71f-474e-bc58-223c9e0869ba')\"\n",
              "            title=\"Suggest charts\"\n",
              "            style=\"display:none;\">\n",
              "\n",
              "<svg xmlns=\"http://www.w3.org/2000/svg\" height=\"24px\"viewBox=\"0 0 24 24\"\n",
              "     width=\"24px\">\n",
              "    <g>\n",
              "        <path d=\"M19 3H5c-1.1 0-2 .9-2 2v14c0 1.1.9 2 2 2h14c1.1 0 2-.9 2-2V5c0-1.1-.9-2-2-2zM9 17H7v-7h2v7zm4 0h-2V7h2v10zm4 0h-2v-4h2v4z\"/>\n",
              "    </g>\n",
              "</svg>\n",
              "  </button>\n",
              "\n",
              "<style>\n",
              "  .colab-df-quickchart {\n",
              "      --bg-color: #E8F0FE;\n",
              "      --fill-color: #1967D2;\n",
              "      --hover-bg-color: #E2EBFA;\n",
              "      --hover-fill-color: #174EA6;\n",
              "      --disabled-fill-color: #AAA;\n",
              "      --disabled-bg-color: #DDD;\n",
              "  }\n",
              "\n",
              "  [theme=dark] .colab-df-quickchart {\n",
              "      --bg-color: #3B4455;\n",
              "      --fill-color: #D2E3FC;\n",
              "      --hover-bg-color: #434B5C;\n",
              "      --hover-fill-color: #FFFFFF;\n",
              "      --disabled-bg-color: #3B4455;\n",
              "      --disabled-fill-color: #666;\n",
              "  }\n",
              "\n",
              "  .colab-df-quickchart {\n",
              "    background-color: var(--bg-color);\n",
              "    border: none;\n",
              "    border-radius: 50%;\n",
              "    cursor: pointer;\n",
              "    display: none;\n",
              "    fill: var(--fill-color);\n",
              "    height: 32px;\n",
              "    padding: 0;\n",
              "    width: 32px;\n",
              "  }\n",
              "\n",
              "  .colab-df-quickchart:hover {\n",
              "    background-color: var(--hover-bg-color);\n",
              "    box-shadow: 0 1px 2px rgba(60, 64, 67, 0.3), 0 1px 3px 1px rgba(60, 64, 67, 0.15);\n",
              "    fill: var(--button-hover-fill-color);\n",
              "  }\n",
              "\n",
              "  .colab-df-quickchart-complete:disabled,\n",
              "  .colab-df-quickchart-complete:disabled:hover {\n",
              "    background-color: var(--disabled-bg-color);\n",
              "    fill: var(--disabled-fill-color);\n",
              "    box-shadow: none;\n",
              "  }\n",
              "\n",
              "  .colab-df-spinner {\n",
              "    border: 2px solid var(--fill-color);\n",
              "    border-color: transparent;\n",
              "    border-bottom-color: var(--fill-color);\n",
              "    animation:\n",
              "      spin 1s steps(1) infinite;\n",
              "  }\n",
              "\n",
              "  @keyframes spin {\n",
              "    0% {\n",
              "      border-color: transparent;\n",
              "      border-bottom-color: var(--fill-color);\n",
              "      border-left-color: var(--fill-color);\n",
              "    }\n",
              "    20% {\n",
              "      border-color: transparent;\n",
              "      border-left-color: var(--fill-color);\n",
              "      border-top-color: var(--fill-color);\n",
              "    }\n",
              "    30% {\n",
              "      border-color: transparent;\n",
              "      border-left-color: var(--fill-color);\n",
              "      border-top-color: var(--fill-color);\n",
              "      border-right-color: var(--fill-color);\n",
              "    }\n",
              "    40% {\n",
              "      border-color: transparent;\n",
              "      border-right-color: var(--fill-color);\n",
              "      border-top-color: var(--fill-color);\n",
              "    }\n",
              "    60% {\n",
              "      border-color: transparent;\n",
              "      border-right-color: var(--fill-color);\n",
              "    }\n",
              "    80% {\n",
              "      border-color: transparent;\n",
              "      border-right-color: var(--fill-color);\n",
              "      border-bottom-color: var(--fill-color);\n",
              "    }\n",
              "    90% {\n",
              "      border-color: transparent;\n",
              "      border-bottom-color: var(--fill-color);\n",
              "    }\n",
              "  }\n",
              "</style>\n",
              "\n",
              "  <script>\n",
              "    async function quickchart(key) {\n",
              "      const quickchartButtonEl =\n",
              "        document.querySelector('#' + key + ' button');\n",
              "      quickchartButtonEl.disabled = true;  // To prevent multiple clicks.\n",
              "      quickchartButtonEl.classList.add('colab-df-spinner');\n",
              "      try {\n",
              "        const charts = await google.colab.kernel.invokeFunction(\n",
              "            'suggestCharts', [key], {});\n",
              "      } catch (error) {\n",
              "        console.error('Error during call to suggestCharts:', error);\n",
              "      }\n",
              "      quickchartButtonEl.classList.remove('colab-df-spinner');\n",
              "      quickchartButtonEl.classList.add('colab-df-quickchart-complete');\n",
              "    }\n",
              "    (() => {\n",
              "      let quickchartButtonEl =\n",
              "        document.querySelector('#df-45089f90-e71f-474e-bc58-223c9e0869ba button');\n",
              "      quickchartButtonEl.style.display =\n",
              "        google.colab.kernel.accessAllowed ? 'block' : 'none';\n",
              "    })();\n",
              "  </script>\n",
              "</div>\n",
              "\n",
              "  <div id=\"id_8c444ce7-d2e5-4c08-b0eb-0a4f3597f700\">\n",
              "    <style>\n",
              "      .colab-df-generate {\n",
              "        background-color: #E8F0FE;\n",
              "        border: none;\n",
              "        border-radius: 50%;\n",
              "        cursor: pointer;\n",
              "        display: none;\n",
              "        fill: #1967D2;\n",
              "        height: 32px;\n",
              "        padding: 0 0 0 0;\n",
              "        width: 32px;\n",
              "      }\n",
              "\n",
              "      .colab-df-generate:hover {\n",
              "        background-color: #E2EBFA;\n",
              "        box-shadow: 0px 1px 2px rgba(60, 64, 67, 0.3), 0px 1px 3px 1px rgba(60, 64, 67, 0.15);\n",
              "        fill: #174EA6;\n",
              "      }\n",
              "\n",
              "      [theme=dark] .colab-df-generate {\n",
              "        background-color: #3B4455;\n",
              "        fill: #D2E3FC;\n",
              "      }\n",
              "\n",
              "      [theme=dark] .colab-df-generate:hover {\n",
              "        background-color: #434B5C;\n",
              "        box-shadow: 0px 1px 3px 1px rgba(0, 0, 0, 0.15);\n",
              "        filter: drop-shadow(0px 1px 2px rgba(0, 0, 0, 0.3));\n",
              "        fill: #FFFFFF;\n",
              "      }\n",
              "    </style>\n",
              "    <button class=\"colab-df-generate\" onclick=\"generateWithVariable('train')\"\n",
              "            title=\"Generate code using this dataframe.\"\n",
              "            style=\"display:none;\">\n",
              "\n",
              "  <svg xmlns=\"http://www.w3.org/2000/svg\" height=\"24px\"viewBox=\"0 0 24 24\"\n",
              "       width=\"24px\">\n",
              "    <path d=\"M7,19H8.4L18.45,9,17,7.55,7,17.6ZM5,21V16.75L18.45,3.32a2,2,0,0,1,2.83,0l1.4,1.43a1.91,1.91,0,0,1,.58,1.4,1.91,1.91,0,0,1-.58,1.4L9.25,21ZM18.45,9,17,7.55Zm-12,3A5.31,5.31,0,0,0,4.9,8.1,5.31,5.31,0,0,0,1,6.5,5.31,5.31,0,0,0,4.9,4.9,5.31,5.31,0,0,0,6.5,1,5.31,5.31,0,0,0,8.1,4.9,5.31,5.31,0,0,0,12,6.5,5.46,5.46,0,0,0,6.5,12Z\"/>\n",
              "  </svg>\n",
              "    </button>\n",
              "    <script>\n",
              "      (() => {\n",
              "      const buttonEl =\n",
              "        document.querySelector('#id_8c444ce7-d2e5-4c08-b0eb-0a4f3597f700 button.colab-df-generate');\n",
              "      buttonEl.style.display =\n",
              "        google.colab.kernel.accessAllowed ? 'block' : 'none';\n",
              "\n",
              "      buttonEl.onclick = () => {\n",
              "        google.colab.notebook.generateWithVariable('train');\n",
              "      }\n",
              "      })();\n",
              "    </script>\n",
              "  </div>\n",
              "\n",
              "    </div>\n",
              "  </div>\n"
            ],
            "application/vnd.google.colaboratory.intrinsic+json": {
              "type": "dataframe",
              "variable_name": "train",
              "summary": "{\n  \"name\": \"train\",\n  \"rows\": 4869,\n  \"fields\": [\n    {\n      \"column\": \"File Name\",\n      \"properties\": {\n        \"dtype\": \"string\",\n        \"num_unique_values\": 4869,\n        \"samples\": [\n          \"4708.txt\",\n          \"1990.txt\",\n          \"2032.txt\"\n        ],\n        \"semantic_type\": \"\",\n        \"description\": \"\"\n      }\n    },\n    {\n      \"column\": \"Caption\",\n      \"properties\": {\n        \"dtype\": \"string\",\n        \"num_unique_values\": 4663,\n        \"samples\": [\n          \"This just turned my whole entire day around ??? ... One day she gone be mines \",\n          \"When your mirror foggy (me my self and lil sis ???????? \",\n          \"Absolutely incensed by this cynical 50 Shades/Valentine cash-in at Tesco \"\n        ],\n        \"semantic_type\": \"\",\n        \"description\": \"\"\n      }\n    },\n    {\n      \"column\": \"LABEL\",\n      \"properties\": {\n        \"dtype\": \"category\",\n        \"num_unique_values\": 3,\n        \"samples\": [\n          \"negative\",\n          \"positive\",\n          \"neutral\"\n        ],\n        \"semantic_type\": \"\",\n        \"description\": \"\"\n      }\n    }\n  ]\n}"
            }
          },
          "metadata": {},
          "execution_count": 21
        }
      ]
    },
    {
      "cell_type": "code",
      "source": [
        "new_df = train[['Caption', 'LABEL']]"
      ],
      "metadata": {
        "id": "uFBkCvEwb2w6"
      },
      "execution_count": 22,
      "outputs": []
    },
    {
      "cell_type": "code",
      "source": [
        "new_df"
      ],
      "metadata": {
        "colab": {
          "base_uri": "https://localhost:8080/",
          "height": 424
        },
        "id": "7DwMoGwUcVsL",
        "outputId": "3d1f331d-f2dc-48d5-c354-89417a3752f1"
      },
      "execution_count": 23,
      "outputs": [
        {
          "output_type": "execute_result",
          "data": {
            "text/plain": [
              "                                                Caption     LABEL\n",
              "0         How I feel today #legday #jelly #aching #gym   negative\n",
              "1     @ArrivaTW absolute disgrace two carriages from...  negative\n",
              "2     This is my Valentine's from 1 of my nephews. I...  positive\n",
              "3     betterfeelingfilms: RT via Instagram: First da...   neutral\n",
              "4            Zoe's first love #Rattled @JohnnyHarper15   positive\n",
              "...                                                 ...       ...\n",
              "4864  OMG. Well done #Eskom! 'Man dies during #LoadS...  positive\n",
              "4865  Feelin' the love in here! #ValentinesDay #caring   positive\n",
              "4866                      #blue #eyes can't be #beaten    neutral\n",
              "4867              LA CHUCHA LOUUU TE CHUPO LOS OJOS..!    neutral\n",
              "4868  #colorsplash_bw #zealous Remedios #herbales y ...  positive\n",
              "\n",
              "[4869 rows x 2 columns]"
            ],
            "text/html": [
              "\n",
              "  <div id=\"df-7a30344a-545a-47f5-b0c9-541731eef50d\" class=\"colab-df-container\">\n",
              "    <div>\n",
              "<style scoped>\n",
              "    .dataframe tbody tr th:only-of-type {\n",
              "        vertical-align: middle;\n",
              "    }\n",
              "\n",
              "    .dataframe tbody tr th {\n",
              "        vertical-align: top;\n",
              "    }\n",
              "\n",
              "    .dataframe thead th {\n",
              "        text-align: right;\n",
              "    }\n",
              "</style>\n",
              "<table border=\"1\" class=\"dataframe\">\n",
              "  <thead>\n",
              "    <tr style=\"text-align: right;\">\n",
              "      <th></th>\n",
              "      <th>Caption</th>\n",
              "      <th>LABEL</th>\n",
              "    </tr>\n",
              "  </thead>\n",
              "  <tbody>\n",
              "    <tr>\n",
              "      <th>0</th>\n",
              "      <td>How I feel today #legday #jelly #aching #gym</td>\n",
              "      <td>negative</td>\n",
              "    </tr>\n",
              "    <tr>\n",
              "      <th>1</th>\n",
              "      <td>@ArrivaTW absolute disgrace two carriages from...</td>\n",
              "      <td>negative</td>\n",
              "    </tr>\n",
              "    <tr>\n",
              "      <th>2</th>\n",
              "      <td>This is my Valentine's from 1 of my nephews. I...</td>\n",
              "      <td>positive</td>\n",
              "    </tr>\n",
              "    <tr>\n",
              "      <th>3</th>\n",
              "      <td>betterfeelingfilms: RT via Instagram: First da...</td>\n",
              "      <td>neutral</td>\n",
              "    </tr>\n",
              "    <tr>\n",
              "      <th>4</th>\n",
              "      <td>Zoe's first love #Rattled @JohnnyHarper15</td>\n",
              "      <td>positive</td>\n",
              "    </tr>\n",
              "    <tr>\n",
              "      <th>...</th>\n",
              "      <td>...</td>\n",
              "      <td>...</td>\n",
              "    </tr>\n",
              "    <tr>\n",
              "      <th>4864</th>\n",
              "      <td>OMG. Well done #Eskom! 'Man dies during #LoadS...</td>\n",
              "      <td>positive</td>\n",
              "    </tr>\n",
              "    <tr>\n",
              "      <th>4865</th>\n",
              "      <td>Feelin' the love in here! #ValentinesDay #caring</td>\n",
              "      <td>positive</td>\n",
              "    </tr>\n",
              "    <tr>\n",
              "      <th>4866</th>\n",
              "      <td>#blue #eyes can't be #beaten</td>\n",
              "      <td>neutral</td>\n",
              "    </tr>\n",
              "    <tr>\n",
              "      <th>4867</th>\n",
              "      <td>LA CHUCHA LOUUU TE CHUPO LOS OJOS..!</td>\n",
              "      <td>neutral</td>\n",
              "    </tr>\n",
              "    <tr>\n",
              "      <th>4868</th>\n",
              "      <td>#colorsplash_bw #zealous Remedios #herbales y ...</td>\n",
              "      <td>positive</td>\n",
              "    </tr>\n",
              "  </tbody>\n",
              "</table>\n",
              "<p>4869 rows × 2 columns</p>\n",
              "</div>\n",
              "    <div class=\"colab-df-buttons\">\n",
              "\n",
              "  <div class=\"colab-df-container\">\n",
              "    <button class=\"colab-df-convert\" onclick=\"convertToInteractive('df-7a30344a-545a-47f5-b0c9-541731eef50d')\"\n",
              "            title=\"Convert this dataframe to an interactive table.\"\n",
              "            style=\"display:none;\">\n",
              "\n",
              "  <svg xmlns=\"http://www.w3.org/2000/svg\" height=\"24px\" viewBox=\"0 -960 960 960\">\n",
              "    <path d=\"M120-120v-720h720v720H120Zm60-500h600v-160H180v160Zm220 220h160v-160H400v160Zm0 220h160v-160H400v160ZM180-400h160v-160H180v160Zm440 0h160v-160H620v160ZM180-180h160v-160H180v160Zm440 0h160v-160H620v160Z\"/>\n",
              "  </svg>\n",
              "    </button>\n",
              "\n",
              "  <style>\n",
              "    .colab-df-container {\n",
              "      display:flex;\n",
              "      gap: 12px;\n",
              "    }\n",
              "\n",
              "    .colab-df-convert {\n",
              "      background-color: #E8F0FE;\n",
              "      border: none;\n",
              "      border-radius: 50%;\n",
              "      cursor: pointer;\n",
              "      display: none;\n",
              "      fill: #1967D2;\n",
              "      height: 32px;\n",
              "      padding: 0 0 0 0;\n",
              "      width: 32px;\n",
              "    }\n",
              "\n",
              "    .colab-df-convert:hover {\n",
              "      background-color: #E2EBFA;\n",
              "      box-shadow: 0px 1px 2px rgba(60, 64, 67, 0.3), 0px 1px 3px 1px rgba(60, 64, 67, 0.15);\n",
              "      fill: #174EA6;\n",
              "    }\n",
              "\n",
              "    .colab-df-buttons div {\n",
              "      margin-bottom: 4px;\n",
              "    }\n",
              "\n",
              "    [theme=dark] .colab-df-convert {\n",
              "      background-color: #3B4455;\n",
              "      fill: #D2E3FC;\n",
              "    }\n",
              "\n",
              "    [theme=dark] .colab-df-convert:hover {\n",
              "      background-color: #434B5C;\n",
              "      box-shadow: 0px 1px 3px 1px rgba(0, 0, 0, 0.15);\n",
              "      filter: drop-shadow(0px 1px 2px rgba(0, 0, 0, 0.3));\n",
              "      fill: #FFFFFF;\n",
              "    }\n",
              "  </style>\n",
              "\n",
              "    <script>\n",
              "      const buttonEl =\n",
              "        document.querySelector('#df-7a30344a-545a-47f5-b0c9-541731eef50d button.colab-df-convert');\n",
              "      buttonEl.style.display =\n",
              "        google.colab.kernel.accessAllowed ? 'block' : 'none';\n",
              "\n",
              "      async function convertToInteractive(key) {\n",
              "        const element = document.querySelector('#df-7a30344a-545a-47f5-b0c9-541731eef50d');\n",
              "        const dataTable =\n",
              "          await google.colab.kernel.invokeFunction('convertToInteractive',\n",
              "                                                    [key], {});\n",
              "        if (!dataTable) return;\n",
              "\n",
              "        const docLinkHtml = 'Like what you see? Visit the ' +\n",
              "          '<a target=\"_blank\" href=https://colab.research.google.com/notebooks/data_table.ipynb>data table notebook</a>'\n",
              "          + ' to learn more about interactive tables.';\n",
              "        element.innerHTML = '';\n",
              "        dataTable['output_type'] = 'display_data';\n",
              "        await google.colab.output.renderOutput(dataTable, element);\n",
              "        const docLink = document.createElement('div');\n",
              "        docLink.innerHTML = docLinkHtml;\n",
              "        element.appendChild(docLink);\n",
              "      }\n",
              "    </script>\n",
              "  </div>\n",
              "\n",
              "\n",
              "<div id=\"df-610ff432-c623-4e81-bf73-44c3364c2e3e\">\n",
              "  <button class=\"colab-df-quickchart\" onclick=\"quickchart('df-610ff432-c623-4e81-bf73-44c3364c2e3e')\"\n",
              "            title=\"Suggest charts\"\n",
              "            style=\"display:none;\">\n",
              "\n",
              "<svg xmlns=\"http://www.w3.org/2000/svg\" height=\"24px\"viewBox=\"0 0 24 24\"\n",
              "     width=\"24px\">\n",
              "    <g>\n",
              "        <path d=\"M19 3H5c-1.1 0-2 .9-2 2v14c0 1.1.9 2 2 2h14c1.1 0 2-.9 2-2V5c0-1.1-.9-2-2-2zM9 17H7v-7h2v7zm4 0h-2V7h2v10zm4 0h-2v-4h2v4z\"/>\n",
              "    </g>\n",
              "</svg>\n",
              "  </button>\n",
              "\n",
              "<style>\n",
              "  .colab-df-quickchart {\n",
              "      --bg-color: #E8F0FE;\n",
              "      --fill-color: #1967D2;\n",
              "      --hover-bg-color: #E2EBFA;\n",
              "      --hover-fill-color: #174EA6;\n",
              "      --disabled-fill-color: #AAA;\n",
              "      --disabled-bg-color: #DDD;\n",
              "  }\n",
              "\n",
              "  [theme=dark] .colab-df-quickchart {\n",
              "      --bg-color: #3B4455;\n",
              "      --fill-color: #D2E3FC;\n",
              "      --hover-bg-color: #434B5C;\n",
              "      --hover-fill-color: #FFFFFF;\n",
              "      --disabled-bg-color: #3B4455;\n",
              "      --disabled-fill-color: #666;\n",
              "  }\n",
              "\n",
              "  .colab-df-quickchart {\n",
              "    background-color: var(--bg-color);\n",
              "    border: none;\n",
              "    border-radius: 50%;\n",
              "    cursor: pointer;\n",
              "    display: none;\n",
              "    fill: var(--fill-color);\n",
              "    height: 32px;\n",
              "    padding: 0;\n",
              "    width: 32px;\n",
              "  }\n",
              "\n",
              "  .colab-df-quickchart:hover {\n",
              "    background-color: var(--hover-bg-color);\n",
              "    box-shadow: 0 1px 2px rgba(60, 64, 67, 0.3), 0 1px 3px 1px rgba(60, 64, 67, 0.15);\n",
              "    fill: var(--button-hover-fill-color);\n",
              "  }\n",
              "\n",
              "  .colab-df-quickchart-complete:disabled,\n",
              "  .colab-df-quickchart-complete:disabled:hover {\n",
              "    background-color: var(--disabled-bg-color);\n",
              "    fill: var(--disabled-fill-color);\n",
              "    box-shadow: none;\n",
              "  }\n",
              "\n",
              "  .colab-df-spinner {\n",
              "    border: 2px solid var(--fill-color);\n",
              "    border-color: transparent;\n",
              "    border-bottom-color: var(--fill-color);\n",
              "    animation:\n",
              "      spin 1s steps(1) infinite;\n",
              "  }\n",
              "\n",
              "  @keyframes spin {\n",
              "    0% {\n",
              "      border-color: transparent;\n",
              "      border-bottom-color: var(--fill-color);\n",
              "      border-left-color: var(--fill-color);\n",
              "    }\n",
              "    20% {\n",
              "      border-color: transparent;\n",
              "      border-left-color: var(--fill-color);\n",
              "      border-top-color: var(--fill-color);\n",
              "    }\n",
              "    30% {\n",
              "      border-color: transparent;\n",
              "      border-left-color: var(--fill-color);\n",
              "      border-top-color: var(--fill-color);\n",
              "      border-right-color: var(--fill-color);\n",
              "    }\n",
              "    40% {\n",
              "      border-color: transparent;\n",
              "      border-right-color: var(--fill-color);\n",
              "      border-top-color: var(--fill-color);\n",
              "    }\n",
              "    60% {\n",
              "      border-color: transparent;\n",
              "      border-right-color: var(--fill-color);\n",
              "    }\n",
              "    80% {\n",
              "      border-color: transparent;\n",
              "      border-right-color: var(--fill-color);\n",
              "      border-bottom-color: var(--fill-color);\n",
              "    }\n",
              "    90% {\n",
              "      border-color: transparent;\n",
              "      border-bottom-color: var(--fill-color);\n",
              "    }\n",
              "  }\n",
              "</style>\n",
              "\n",
              "  <script>\n",
              "    async function quickchart(key) {\n",
              "      const quickchartButtonEl =\n",
              "        document.querySelector('#' + key + ' button');\n",
              "      quickchartButtonEl.disabled = true;  // To prevent multiple clicks.\n",
              "      quickchartButtonEl.classList.add('colab-df-spinner');\n",
              "      try {\n",
              "        const charts = await google.colab.kernel.invokeFunction(\n",
              "            'suggestCharts', [key], {});\n",
              "      } catch (error) {\n",
              "        console.error('Error during call to suggestCharts:', error);\n",
              "      }\n",
              "      quickchartButtonEl.classList.remove('colab-df-spinner');\n",
              "      quickchartButtonEl.classList.add('colab-df-quickchart-complete');\n",
              "    }\n",
              "    (() => {\n",
              "      let quickchartButtonEl =\n",
              "        document.querySelector('#df-610ff432-c623-4e81-bf73-44c3364c2e3e button');\n",
              "      quickchartButtonEl.style.display =\n",
              "        google.colab.kernel.accessAllowed ? 'block' : 'none';\n",
              "    })();\n",
              "  </script>\n",
              "</div>\n",
              "\n",
              "  <div id=\"id_55442b02-204a-4a88-8b8f-e45e74df9e39\">\n",
              "    <style>\n",
              "      .colab-df-generate {\n",
              "        background-color: #E8F0FE;\n",
              "        border: none;\n",
              "        border-radius: 50%;\n",
              "        cursor: pointer;\n",
              "        display: none;\n",
              "        fill: #1967D2;\n",
              "        height: 32px;\n",
              "        padding: 0 0 0 0;\n",
              "        width: 32px;\n",
              "      }\n",
              "\n",
              "      .colab-df-generate:hover {\n",
              "        background-color: #E2EBFA;\n",
              "        box-shadow: 0px 1px 2px rgba(60, 64, 67, 0.3), 0px 1px 3px 1px rgba(60, 64, 67, 0.15);\n",
              "        fill: #174EA6;\n",
              "      }\n",
              "\n",
              "      [theme=dark] .colab-df-generate {\n",
              "        background-color: #3B4455;\n",
              "        fill: #D2E3FC;\n",
              "      }\n",
              "\n",
              "      [theme=dark] .colab-df-generate:hover {\n",
              "        background-color: #434B5C;\n",
              "        box-shadow: 0px 1px 3px 1px rgba(0, 0, 0, 0.15);\n",
              "        filter: drop-shadow(0px 1px 2px rgba(0, 0, 0, 0.3));\n",
              "        fill: #FFFFFF;\n",
              "      }\n",
              "    </style>\n",
              "    <button class=\"colab-df-generate\" onclick=\"generateWithVariable('new_df')\"\n",
              "            title=\"Generate code using this dataframe.\"\n",
              "            style=\"display:none;\">\n",
              "\n",
              "  <svg xmlns=\"http://www.w3.org/2000/svg\" height=\"24px\"viewBox=\"0 0 24 24\"\n",
              "       width=\"24px\">\n",
              "    <path d=\"M7,19H8.4L18.45,9,17,7.55,7,17.6ZM5,21V16.75L18.45,3.32a2,2,0,0,1,2.83,0l1.4,1.43a1.91,1.91,0,0,1,.58,1.4,1.91,1.91,0,0,1-.58,1.4L9.25,21ZM18.45,9,17,7.55Zm-12,3A5.31,5.31,0,0,0,4.9,8.1,5.31,5.31,0,0,0,1,6.5,5.31,5.31,0,0,0,4.9,4.9,5.31,5.31,0,0,0,6.5,1,5.31,5.31,0,0,0,8.1,4.9,5.31,5.31,0,0,0,12,6.5,5.46,5.46,0,0,0,6.5,12Z\"/>\n",
              "  </svg>\n",
              "    </button>\n",
              "    <script>\n",
              "      (() => {\n",
              "      const buttonEl =\n",
              "        document.querySelector('#id_55442b02-204a-4a88-8b8f-e45e74df9e39 button.colab-df-generate');\n",
              "      buttonEl.style.display =\n",
              "        google.colab.kernel.accessAllowed ? 'block' : 'none';\n",
              "\n",
              "      buttonEl.onclick = () => {\n",
              "        google.colab.notebook.generateWithVariable('new_df');\n",
              "      }\n",
              "      })();\n",
              "    </script>\n",
              "  </div>\n",
              "\n",
              "    </div>\n",
              "  </div>\n"
            ],
            "application/vnd.google.colaboratory.intrinsic+json": {
              "type": "dataframe",
              "variable_name": "new_df",
              "summary": "{\n  \"name\": \"new_df\",\n  \"rows\": 4869,\n  \"fields\": [\n    {\n      \"column\": \"Caption\",\n      \"properties\": {\n        \"dtype\": \"string\",\n        \"num_unique_values\": 4663,\n        \"samples\": [\n          \"This just turned my whole entire day around ??? ... One day she gone be mines \",\n          \"When your mirror foggy (me my self and lil sis ???????? \",\n          \"Absolutely incensed by this cynical 50 Shades/Valentine cash-in at Tesco \"\n        ],\n        \"semantic_type\": \"\",\n        \"description\": \"\"\n      }\n    },\n    {\n      \"column\": \"LABEL\",\n      \"properties\": {\n        \"dtype\": \"category\",\n        \"num_unique_values\": 3,\n        \"samples\": [\n          \"negative\",\n          \"positive\",\n          \"neutral\"\n        ],\n        \"semantic_type\": \"\",\n        \"description\": \"\"\n      }\n    }\n  ]\n}"
            }
          },
          "metadata": {},
          "execution_count": 23
        }
      ]
    },
    {
      "cell_type": "code",
      "source": [
        "MAX_LEN = 128\n",
        "TRAIN_BATCH_SIZE = 5\n",
        "VALID_BATCH_SIZE = 4\n",
        "LEARNING_RATE = 1e-05\n",
        "tokenizer = RobertaTokenizer.from_pretrained('roberta-base', truncation=True, do_lower_case=True)"
      ],
      "metadata": {
        "colab": {
          "base_uri": "https://localhost:8080/",
          "height": 301,
          "referenced_widgets": [
            "341a12bec4d24fc2a760feb78a5a2507",
            "c6df3c6a0ca4425e9aaa12b8b0bda805",
            "ae813149d5fb43a488d5dde88e16c5e9",
            "f4eadd69880644e88f99109147c68adf",
            "babef4f2b0ff42f18a47010a1ff34ba8",
            "93150b6a1c0a483abaeb9210b6440a17",
            "48546af653474553ab38e5ae692486a5",
            "48ce6d792c224ad5845a03d820d828aa",
            "020fe674ab1e45d990c3a9312ccc9420",
            "41deba30bee54f3c8ece3a963b195656",
            "ff62f41d7a194448847908e2531019b4",
            "45a0953a44914c9cbbcfec956c1e28dd",
            "b79cb8b8cef54aa98432cab163d5ffa5",
            "bf632ad62cc74af78e49e3b3ece0b087",
            "a3a8ca029a6b48769507f45f7469ff09",
            "817780976cb04b99927f6c32c61f6994",
            "3d3e73b3e6c74268bcae1670be49e188",
            "98de7cbd1bc3465abe25038623f515c6",
            "853461689bea48a095c276ba0bee9595",
            "f6baa4e46f7c44369bb1ebc78f8ab7ed",
            "e6940762bda140d7989335a8c6959501",
            "cfd05bd8e7074bef8672462988701e24",
            "af226311f8094dbdb582ed7f9dd7abc6",
            "ee4e6ce3ba494046a114c1c382cc1663",
            "7663c1ef68714870946f9cbe782bfc9a",
            "4eec21d1665d4ee5806204fef263132c",
            "87c068e9653d4977ae6340428790b3c6",
            "0ea4c67438f64c29ab2cb3a5441f38fa",
            "0e832a9ca3044f4db88224d59d50ffe1",
            "3c248a09fee347e6a938e2cbb3d1538a",
            "89bf3ea520a547dcb888c576c8be40c3",
            "baff3c4945244ba69d0a2399da094422",
            "79545b6571dc4cb8a837df35bd32d2a5",
            "9c2b25c2ff824d76830a18cd91dbb1fd",
            "653e4b59cd7e46c6a0187b2effb7ab3b",
            "ef518ee980534975aede5afb595c5b4c",
            "f70e5eb79ef9496faee1122cda87aa47",
            "b497ff19218c446a878af835fbd86018",
            "e854d74ca40146d39b8467cc39ceafa6",
            "0d15a87c67b347e4bc26eb9a79674e85",
            "1fcbac02506c4324a869bc5070fc2a03",
            "2ca28134a1e744e3a6e5f6fca30971d9",
            "f3ffd5979c9d4fc68e9cabce35a7447a",
            "756930498318494a94fcaf8f188b0342",
            "9bceeb5854574f73b06c363369e50953",
            "ee25ddb8d6eb4a6184a6372733766d54",
            "e68b722a02a943758647ce17193f4547",
            "b61205dafd0f480c9af6f0e9c5fd7a0f",
            "5c798f7d75f54dfaa501112536663400",
            "44114529585948669a791c9f1f4443a9",
            "a491c99b1ea54faaa88c46cf4fb2d712",
            "f52c77364956411d82ec30254a416d49",
            "e184292937594530933047a6e650ab76",
            "631ade8d95bb48f18659827f1b7c79ed",
            "3e13f1e9e74545a4b26a6fce4e5292c0"
          ]
        },
        "id": "uctu0l-Ucj5j",
        "outputId": "406dc20e-8e5e-41e9-daef-1cfbd113d06e"
      },
      "execution_count": 24,
      "outputs": [
        {
          "output_type": "stream",
          "name": "stderr",
          "text": [
            "/usr/local/lib/python3.10/dist-packages/huggingface_hub/utils/_token.py:88: UserWarning: \n",
            "The secret `HF_TOKEN` does not exist in your Colab secrets.\n",
            "To authenticate with the Hugging Face Hub, create a token in your settings tab (https://huggingface.co/settings/tokens), set it as secret in your Google Colab and restart your session.\n",
            "You will be able to reuse this secret in all of your notebooks.\n",
            "Please note that authentication is recommended but still optional to access public models or datasets.\n",
            "  warnings.warn(\n"
          ]
        },
        {
          "output_type": "display_data",
          "data": {
            "text/plain": [
              "tokenizer_config.json:   0%|          | 0.00/25.0 [00:00<?, ?B/s]"
            ],
            "application/vnd.jupyter.widget-view+json": {
              "version_major": 2,
              "version_minor": 0,
              "model_id": "341a12bec4d24fc2a760feb78a5a2507"
            }
          },
          "metadata": {}
        },
        {
          "output_type": "display_data",
          "data": {
            "text/plain": [
              "vocab.json:   0%|          | 0.00/899k [00:00<?, ?B/s]"
            ],
            "application/vnd.jupyter.widget-view+json": {
              "version_major": 2,
              "version_minor": 0,
              "model_id": "45a0953a44914c9cbbcfec956c1e28dd"
            }
          },
          "metadata": {}
        },
        {
          "output_type": "display_data",
          "data": {
            "text/plain": [
              "merges.txt:   0%|          | 0.00/456k [00:00<?, ?B/s]"
            ],
            "application/vnd.jupyter.widget-view+json": {
              "version_major": 2,
              "version_minor": 0,
              "model_id": "af226311f8094dbdb582ed7f9dd7abc6"
            }
          },
          "metadata": {}
        },
        {
          "output_type": "display_data",
          "data": {
            "text/plain": [
              "tokenizer.json:   0%|          | 0.00/1.36M [00:00<?, ?B/s]"
            ],
            "application/vnd.jupyter.widget-view+json": {
              "version_major": 2,
              "version_minor": 0,
              "model_id": "9c2b25c2ff824d76830a18cd91dbb1fd"
            }
          },
          "metadata": {}
        },
        {
          "output_type": "display_data",
          "data": {
            "text/plain": [
              "config.json:   0%|          | 0.00/481 [00:00<?, ?B/s]"
            ],
            "application/vnd.jupyter.widget-view+json": {
              "version_major": 2,
              "version_minor": 0,
              "model_id": "9bceeb5854574f73b06c363369e50953"
            }
          },
          "metadata": {}
        }
      ]
    },
    {
      "cell_type": "code",
      "source": [
        "class SentimentData(Dataset):\n",
        "    def __init__(self, dataframe, tokenizer, max_len):\n",
        "        self.tokenizer = tokenizer\n",
        "        self.data = dataframe\n",
        "        self.text = dataframe.Caption\n",
        "        self.targets = self.data.LABEL.map({'positive': 0, 'neutral': 1, 'negative': 2})  # Map labels to integers\n",
        "        self.max_len = max_len\n",
        "\n",
        "    def __len__(self):\n",
        "        return len(self.text)\n",
        "\n",
        "    def __getitem__(self, index):\n",
        "        text = str(self.text[index])\n",
        "        text = \" \".join(text.split())\n",
        "\n",
        "        inputs = self.tokenizer.encode_plus(\n",
        "            text,\n",
        "            None,\n",
        "            add_special_tokens=True,\n",
        "            max_length=self.max_len,\n",
        "            padding='max_length',  # Updated padding argument\n",
        "            truncation= True,\n",
        "            return_token_type_ids=True\n",
        "        )\n",
        "        ids = inputs['input_ids']\n",
        "        mask = inputs['attention_mask']\n",
        "        token_type_ids = inputs[\"token_type_ids\"]\n",
        "\n",
        "        return {\n",
        "            'ids': torch.tensor(ids, dtype=torch.long),\n",
        "            'mask': torch.tensor(mask, dtype=torch.long),\n",
        "            'token_type_ids': torch.tensor(token_type_ids, dtype=torch.long),\n",
        "            'targets': torch.tensor(self.targets[index], dtype=torch.long)  # Use torch.long for integer targets\n",
        "        }"
      ],
      "metadata": {
        "id": "1cMuPOv0dkdz"
      },
      "execution_count": 25,
      "outputs": []
    },
    {
      "cell_type": "code",
      "source": [
        "train_size = 0.8\n",
        "train_data=new_df.sample(frac=train_size,random_state=150) #200 was here\n",
        "test_data=new_df.drop(train_data.index).reset_index(drop=True)\n",
        "train_data = train_data.reset_index(drop=True)"
      ],
      "metadata": {
        "id": "-kzlGsKydrxK"
      },
      "execution_count": 26,
      "outputs": []
    },
    {
      "cell_type": "code",
      "source": [
        "print(\"FULL Dataset: {}\".format(new_df.shape))\n",
        "print(\"TRAIN Dataset: {}\".format(train_data.shape))\n",
        "print(\"TEST Dataset: {}\".format(test_data.shape))"
      ],
      "metadata": {
        "colab": {
          "base_uri": "https://localhost:8080/"
        },
        "id": "zAy-m0fmduqC",
        "outputId": "c09873f3-db68-4f8f-d234-d6c3666277bb"
      },
      "execution_count": 27,
      "outputs": [
        {
          "output_type": "stream",
          "name": "stdout",
          "text": [
            "FULL Dataset: (4869, 2)\n",
            "TRAIN Dataset: (3895, 2)\n",
            "TEST Dataset: (974, 2)\n"
          ]
        }
      ]
    },
    {
      "cell_type": "code",
      "source": [
        "training_set = SentimentData(train_data, tokenizer, MAX_LEN)\n",
        "testing_set = SentimentData(test_data, tokenizer, MAX_LEN)"
      ],
      "metadata": {
        "id": "enr94cK8d4uR"
      },
      "execution_count": 28,
      "outputs": []
    },
    {
      "cell_type": "code",
      "source": [
        "training_set"
      ],
      "metadata": {
        "colab": {
          "base_uri": "https://localhost:8080/"
        },
        "id": "66ZDZm0ld8Oh",
        "outputId": "44e27a32-8ed4-4ff0-f4a7-40fa2337129b"
      },
      "execution_count": 29,
      "outputs": [
        {
          "output_type": "execute_result",
          "data": {
            "text/plain": [
              "<__main__.SentimentData at 0x7e77716a2560>"
            ]
          },
          "metadata": {},
          "execution_count": 29
        }
      ]
    },
    {
      "cell_type": "code",
      "source": [
        "train_params = {'batch_size': TRAIN_BATCH_SIZE,\n",
        "                'shuffle': True,\n",
        "                'num_workers': 0\n",
        "                }\n",
        "\n",
        "test_params = {'batch_size': VALID_BATCH_SIZE,\n",
        "                'shuffle': True,\n",
        "                'num_workers': 0\n",
        "                }\n",
        "\n",
        "training_loader = DataLoader(training_set, **train_params)\n",
        "testing_loader = DataLoader(testing_set, **test_params)"
      ],
      "metadata": {
        "id": "_oUHGG0zd_YD"
      },
      "execution_count": 30,
      "outputs": []
    },
    {
      "cell_type": "code",
      "source": [
        "class RobertaClass(torch.nn.Module):\n",
        "    def __init__(self):\n",
        "        super(RobertaClass, self).__init__()\n",
        "        self.l1 = RobertaModel.from_pretrained(\"roberta-base\")\n",
        "        self.pre_classifier = torch.nn.Linear(768, 768)\n",
        "        self.dropout = torch.nn.Dropout(0.3)\n",
        "        self.classifier = torch.nn.Linear(768, 5)\n",
        "\n",
        "    def forward(self, input_ids, attention_mask, token_type_ids):\n",
        "        output_1 = self.l1(input_ids=input_ids, attention_mask=attention_mask, token_type_ids=token_type_ids)\n",
        "        hidden_state = output_1[0]\n",
        "        pooler = hidden_state[:, 0]\n",
        "        pooler = self.pre_classifier(pooler)\n",
        "        pooler = torch.nn.ReLU()(pooler)\n",
        "        pooler = self.dropout(pooler)\n",
        "        output = self.classifier(pooler)\n",
        "        return output"
      ],
      "metadata": {
        "id": "32KvhV4weGxb"
      },
      "execution_count": 31,
      "outputs": []
    },
    {
      "cell_type": "code",
      "source": [
        "model2 = RobertaClass()\n",
        "model2.to(device)"
      ],
      "metadata": {
        "colab": {
          "base_uri": "https://localhost:8080/",
          "height": 903,
          "referenced_widgets": [
            "1f2b53f368c844f786d1af0df3f8cc11",
            "78aeaab2592f43ffa16e730bed6a880d",
            "83dc210f00f4490db41a7631b377777a",
            "9626774d3d884dedae7cffcc8e4eff4f",
            "8cb851e095f5488d83b2a38c637d3c54",
            "4fb0c300a4a54f42a3ee53572ff2ab12",
            "865e05b9804a4c45b51602b6f0ff2dbd",
            "8aecd63445374b8da2fe76468bd0e000",
            "68a4787dfd9a41c2b9126c2ed1a53a97",
            "753392c1fdd840c5a949522cfc3a0d5a",
            "fcd950aecd2c4e2ebdad29f51c2f1bf3"
          ]
        },
        "id": "Gw9HZNKYeLGq",
        "outputId": "4461440a-b740-4654-da5a-37d69eb00fcc"
      },
      "execution_count": 32,
      "outputs": [
        {
          "output_type": "display_data",
          "data": {
            "text/plain": [
              "model.safetensors:   0%|          | 0.00/499M [00:00<?, ?B/s]"
            ],
            "application/vnd.jupyter.widget-view+json": {
              "version_major": 2,
              "version_minor": 0,
              "model_id": "1f2b53f368c844f786d1af0df3f8cc11"
            }
          },
          "metadata": {}
        },
        {
          "output_type": "stream",
          "name": "stderr",
          "text": [
            "Some weights of RobertaModel were not initialized from the model checkpoint at roberta-base and are newly initialized: ['roberta.pooler.dense.bias', 'roberta.pooler.dense.weight']\n",
            "You should probably TRAIN this model on a down-stream task to be able to use it for predictions and inference.\n"
          ]
        },
        {
          "output_type": "execute_result",
          "data": {
            "text/plain": [
              "RobertaClass(\n",
              "  (l1): RobertaModel(\n",
              "    (embeddings): RobertaEmbeddings(\n",
              "      (word_embeddings): Embedding(50265, 768, padding_idx=1)\n",
              "      (position_embeddings): Embedding(514, 768, padding_idx=1)\n",
              "      (token_type_embeddings): Embedding(1, 768)\n",
              "      (LayerNorm): LayerNorm((768,), eps=1e-05, elementwise_affine=True)\n",
              "      (dropout): Dropout(p=0.1, inplace=False)\n",
              "    )\n",
              "    (encoder): RobertaEncoder(\n",
              "      (layer): ModuleList(\n",
              "        (0-11): 12 x RobertaLayer(\n",
              "          (attention): RobertaAttention(\n",
              "            (self): RobertaSelfAttention(\n",
              "              (query): Linear(in_features=768, out_features=768, bias=True)\n",
              "              (key): Linear(in_features=768, out_features=768, bias=True)\n",
              "              (value): Linear(in_features=768, out_features=768, bias=True)\n",
              "              (dropout): Dropout(p=0.1, inplace=False)\n",
              "            )\n",
              "            (output): RobertaSelfOutput(\n",
              "              (dense): Linear(in_features=768, out_features=768, bias=True)\n",
              "              (LayerNorm): LayerNorm((768,), eps=1e-05, elementwise_affine=True)\n",
              "              (dropout): Dropout(p=0.1, inplace=False)\n",
              "            )\n",
              "          )\n",
              "          (intermediate): RobertaIntermediate(\n",
              "            (dense): Linear(in_features=768, out_features=3072, bias=True)\n",
              "            (intermediate_act_fn): GELUActivation()\n",
              "          )\n",
              "          (output): RobertaOutput(\n",
              "            (dense): Linear(in_features=3072, out_features=768, bias=True)\n",
              "            (LayerNorm): LayerNorm((768,), eps=1e-05, elementwise_affine=True)\n",
              "            (dropout): Dropout(p=0.1, inplace=False)\n",
              "          )\n",
              "        )\n",
              "      )\n",
              "    )\n",
              "    (pooler): RobertaPooler(\n",
              "      (dense): Linear(in_features=768, out_features=768, bias=True)\n",
              "      (activation): Tanh()\n",
              "    )\n",
              "  )\n",
              "  (pre_classifier): Linear(in_features=768, out_features=768, bias=True)\n",
              "  (dropout): Dropout(p=0.3, inplace=False)\n",
              "  (classifier): Linear(in_features=768, out_features=5, bias=True)\n",
              ")"
            ]
          },
          "metadata": {},
          "execution_count": 32
        }
      ]
    },
    {
      "cell_type": "code",
      "source": [
        "loss_function = torch.nn.CrossEntropyLoss()\n",
        "optimizer = torch.optim.Adam(params =  model2.parameters(), lr=LEARNING_RATE)"
      ],
      "metadata": {
        "id": "i5pG1t5neOZ2"
      },
      "execution_count": 33,
      "outputs": []
    },
    {
      "cell_type": "code",
      "source": [
        "def calcuate_accuracy(preds, targets):\n",
        "    n_correct = (preds==targets).sum().item()\n",
        "    return n_correct"
      ],
      "metadata": {
        "id": "MYvfWMigeWLJ"
      },
      "execution_count": 34,
      "outputs": []
    },
    {
      "cell_type": "code",
      "source": [
        "def train(epoch):\n",
        "    tr_loss = 0\n",
        "    n_correct = 0\n",
        "    nb_tr_steps = 0\n",
        "    nb_tr_examples = 0\n",
        "    model2.train()\n",
        "    for _,data in tqdm(enumerate(training_loader, 0)):\n",
        "        ids = data['ids'].to(device, dtype = torch.long)\n",
        "        mask = data['mask'].to(device, dtype = torch.long)\n",
        "        token_type_ids = data['token_type_ids'].to(device, dtype = torch.long)\n",
        "        targets = data['targets'].to(device, dtype = torch.long)\n",
        "\n",
        "        outputs = model2(ids, mask, token_type_ids)\n",
        "        loss = loss_function(outputs, targets)\n",
        "        tr_loss += loss.item()\n",
        "        big_val, big_idx = torch.max(outputs.data, dim=1)\n",
        "        n_correct += calcuate_accuracy(big_idx, targets)\n",
        "\n",
        "        nb_tr_steps += 1\n",
        "        nb_tr_examples+=targets.size(0)\n",
        "\n",
        "        if _%5000==0:\n",
        "            loss_step = tr_loss/nb_tr_steps\n",
        "            accu_step = (n_correct*100)/nb_tr_examples\n",
        "            print(f\"Training Loss per 5000 steps: {loss_step}\")\n",
        "            print(f\"Training Accuracy per 5000 steps: {accu_step}\")\n",
        "\n",
        "        optimizer.zero_grad()\n",
        "        loss.backward()\n",
        "        # When using GPU\n",
        "        optimizer.step()\n",
        "\n",
        "    print(f'The Total Accuracy for Epoch {epoch}: {(n_correct*100)/nb_tr_examples}')\n",
        "    epoch_loss = tr_loss/nb_tr_steps\n",
        "    epoch_accu = (n_correct*100)/nb_tr_examples\n",
        "    print(f\"Training Loss Epoch: {epoch_loss}\")\n",
        "    print(f\"Training Accuracy Epoch: {epoch_accu}\")\n",
        "\n",
        "    return"
      ],
      "metadata": {
        "id": "gXu9DZYVeZE6"
      },
      "execution_count": 35,
      "outputs": []
    },
    {
      "cell_type": "code",
      "source": [
        "EPOCHS = 2\n",
        "for epoch in range(EPOCHS):\n",
        "    train(epoch)"
      ],
      "metadata": {
        "colab": {
          "base_uri": "https://localhost:8080/"
        },
        "id": "ju9Qisc1eePp",
        "outputId": "ff8032bb-faaf-4eb6-bae9-9ba69b3e9f37"
      },
      "execution_count": 36,
      "outputs": [
        {
          "output_type": "stream",
          "name": "stderr",
          "text": [
            "\r0it [00:00, ?it/s]"
          ]
        },
        {
          "output_type": "stream",
          "name": "stdout",
          "text": [
            "Training Loss per 5000 steps: 1.6902427673339844\n",
            "Training Accuracy per 5000 steps: 0.0\n"
          ]
        },
        {
          "output_type": "stream",
          "name": "stderr",
          "text": [
            "779it [01:47,  7.26it/s]\n"
          ]
        },
        {
          "output_type": "stream",
          "name": "stdout",
          "text": [
            "The Total Accuracy for Epoch 0: 57.61232349165597\n",
            "Training Loss Epoch: 0.9164192188095985\n",
            "Training Accuracy Epoch: 57.61232349165597\n"
          ]
        },
        {
          "output_type": "stream",
          "name": "stderr",
          "text": [
            "1it [00:00,  8.28it/s]"
          ]
        },
        {
          "output_type": "stream",
          "name": "stdout",
          "text": [
            "Training Loss per 5000 steps: 0.598147988319397\n",
            "Training Accuracy per 5000 steps: 80.0\n"
          ]
        },
        {
          "output_type": "stream",
          "name": "stderr",
          "text": [
            "779it [01:46,  7.34it/s]"
          ]
        },
        {
          "output_type": "stream",
          "name": "stdout",
          "text": [
            "The Total Accuracy for Epoch 1: 74.60847240051348\n",
            "Training Loss Epoch: 0.608758687360908\n",
            "Training Accuracy Epoch: 74.60847240051348\n"
          ]
        },
        {
          "output_type": "stream",
          "name": "stderr",
          "text": [
            "\n"
          ]
        }
      ]
    },
    {
      "cell_type": "code",
      "source": [
        "predictions_model2 = []"
      ],
      "metadata": {
        "id": "Sb-hyf9temyJ"
      },
      "execution_count": 37,
      "outputs": []
    },
    {
      "cell_type": "code",
      "source": [
        "def valid(model, testing_loader):\n",
        "    model2.eval()\n",
        "    n_correct = 0; n_wrong = 0; total = 0; tr_loss=0; nb_tr_steps=0; nb_tr_examples=0\n",
        "    with torch.no_grad():\n",
        "        for _, data in tqdm(enumerate(testing_loader, 0)):\n",
        "            ids = data['ids'].to(device, dtype = torch.long)\n",
        "            mask = data['mask'].to(device, dtype = torch.long)\n",
        "            token_type_ids = data['token_type_ids'].to(device, dtype=torch.long)\n",
        "            targets = data['targets'].to(device, dtype = torch.long)\n",
        "            outputs = model2(ids, mask, token_type_ids).squeeze()\n",
        "            predictions_model2.extend(torch.argmax(outputs, axis=1).cpu().numpy())\n",
        "            loss = loss_function(outputs, targets)\n",
        "            tr_loss += loss.item()\n",
        "            big_val, big_idx = torch.max(outputs.data, dim=1)\n",
        "            n_correct += calcuate_accuracy(big_idx, targets)\n",
        "\n",
        "            nb_tr_steps += 1\n",
        "            nb_tr_examples+=targets.size(0)\n",
        "\n",
        "            if _%5000==0:\n",
        "                loss_step = tr_loss/nb_tr_steps\n",
        "                accu_step = (n_correct*100)/nb_tr_examples\n",
        "                print(f\"Validation Loss per 100 steps: {loss_step}\")\n",
        "                print(f\"Validation Accuracy per 100 steps: {accu_step}\")\n",
        "    epoch_loss = tr_loss/nb_tr_steps\n",
        "    epoch_accu = (n_correct*100)/nb_tr_examples\n",
        "    print(f\"Validation Loss Epoch: {epoch_loss}\")\n",
        "    print(f\"Validation Accuracy Epoch: {epoch_accu}\")\n",
        "    print(outputs)\n",
        "\n",
        "    return epoch_accu"
      ],
      "metadata": {
        "id": "SEXp51KJlOoo"
      },
      "execution_count": 38,
      "outputs": []
    },
    {
      "cell_type": "code",
      "source": [
        "acc = valid(model2, testing_loader)\n",
        "print(\"Accuracy on test data = %0.2f%%\" % acc)"
      ],
      "metadata": {
        "colab": {
          "base_uri": "https://localhost:8080/"
        },
        "id": "MW2aewSflPS4",
        "outputId": "d253b47b-298c-42cc-a2ca-260a835d95dc"
      },
      "execution_count": 39,
      "outputs": [
        {
          "output_type": "stream",
          "name": "stderr",
          "text": [
            "2it [00:00, 18.47it/s]"
          ]
        },
        {
          "output_type": "stream",
          "name": "stdout",
          "text": [
            "Validation Loss per 100 steps: 0.9087092876434326\n",
            "Validation Accuracy per 100 steps: 75.0\n"
          ]
        },
        {
          "output_type": "stream",
          "name": "stderr",
          "text": [
            "244it [00:07, 31.77it/s]\n"
          ]
        },
        {
          "output_type": "stream",
          "name": "stdout",
          "text": [
            "Validation Loss Epoch: 0.6748289183301271\n",
            "Validation Accuracy Epoch: 72.38193018480493\n",
            "tensor([[-0.0226,  3.0812,  2.5585, -3.6516, -3.6704],\n",
            "        [ 4.3382,  0.5363, -1.0534, -3.3449, -2.7564]], device='cuda:0')\n",
            "Accuracy on test data = 72.38%\n"
          ]
        }
      ]
    },
    {
      "cell_type": "code",
      "source": [
        "def evaluate_model(model, testing_loader):\n",
        "    model.eval()\n",
        "    predictions_model2 = []\n",
        "    targets_model2 = []\n",
        "    with torch.no_grad():\n",
        "        for _, data in tqdm(enumerate(testing_loader, 0)):\n",
        "            ids = data['ids'].to(device, dtype=torch.long)\n",
        "            mask = data['mask'].to(device, dtype=torch.long)\n",
        "            token_type_ids = data['token_type_ids'].to(device, dtype=torch.long)\n",
        "            targets = data['targets'].to(device, dtype=torch.long)\n",
        "            outputs = model(ids, mask, token_type_ids).squeeze()\n",
        "            predictions_model2.extend(torch.argmax(outputs, axis=1).cpu().numpy())\n",
        "            targets_model2.extend(targets.cpu().numpy())\n",
        "\n",
        "    f1 = f1_score(targets_model2, predictions_model2, average='weighted')\n",
        "    precision = precision_score(targets_model2, predictions_model2, average='weighted')\n",
        "    return f1, precision\n",
        "\n",
        "f1_model2, precision_model2 = evaluate_model(model2, testing_loader)\n",
        "print(\"F1 Score on test data:\", f1_model2)\n",
        "print(\"Precision on test data:\", precision_model2)"
      ],
      "metadata": {
        "colab": {
          "base_uri": "https://localhost:8080/"
        },
        "id": "qEc3NYpxqBIf",
        "outputId": "0ecca2db-8808-4525-a38e-592a38b9596e"
      },
      "execution_count": 40,
      "outputs": [
        {
          "output_type": "stream",
          "name": "stderr",
          "text": [
            "244it [00:07, 33.07it/s]"
          ]
        },
        {
          "output_type": "stream",
          "name": "stdout",
          "text": [
            "F1 Score on test data: 0.7227094970526254\n",
            "Precision on test data: 0.7473538736306619\n"
          ]
        },
        {
          "output_type": "stream",
          "name": "stderr",
          "text": [
            "\n"
          ]
        }
      ]
    },
    {
      "cell_type": "markdown",
      "source": [
        "**Model1 vs Model2 Comparison**"
      ],
      "metadata": {
        "id": "0AkftY9Joe2u"
      }
    },
    {
      "cell_type": "code",
      "source": [
        "# Plotting accuracies of the two models\n",
        "models = ['Bi-GRU', 'RoBERTa']\n",
        "accuracies = [accu*100, acc]\n",
        "\n",
        "plt.figure(figsize=(8, 4))\n",
        "plt.bar(models, accuracies, color=['blue', 'green'])\n",
        "plt.title('Accuracy of Model 1 and Model 2')\n",
        "plt.xlabel('Models')\n",
        "plt.ylabel('Accuracy')\n",
        "plt.grid(axis='y', linestyle='--', alpha=0.7)\n",
        "plt.ylim(0, 100)\n",
        "for index, value in enumerate(accuracies):\n",
        "    plt.text(index, value + 0.5, str(round(value, 2)), ha='center', va='bottom')\n",
        "plt.show()"
      ],
      "metadata": {
        "colab": {
          "base_uri": "https://localhost:8080/",
          "height": 410
        },
        "id": "6h-LOoMwnzoP",
        "outputId": "f174350b-fdde-496d-84b3-a95a7af2943f"
      },
      "execution_count": 75,
      "outputs": [
        {
          "output_type": "display_data",
          "data": {
            "text/plain": [
              "<Figure size 800x400 with 1 Axes>"
            ],
            "image/png": "[encoded data removed]"
          },
          "metadata": {}
        }
      ]
    },
    {
      "cell_type": "code",
      "source": [
        "# Data\n",
        "metrics_dict = {\n",
        "    'Bi-GRU': {'Precision': pre},\n",
        "    'RoBERTa': {'Precision': 0.7473538736306619}\n",
        "}\n",
        "\n",
        "# Plotting\n",
        "metrics_df = pd.DataFrame.from_dict(metrics_dict, orient='index')\n",
        "ax = metrics_df.plot(kind='bar', y='Precision', figsize=(10,4), color=[\"blue\",\"green\"], legend=False)\n",
        "plt.title('Precision for Model 1 and Model 2')\n",
        "plt.ylabel('Score')\n",
        "plt.xlabel('Models')\n",
        "plt.xticks(rotation=45)\n",
        "plt.grid(axis='y', linestyle='--', alpha=0.7)\n",
        "\n",
        "# Add precision values on top of the bars\n",
        "for i in ax.patches:\n",
        "    plt.text(i.get_x() + i.get_width() / 2, i.get_height() + 0.01, \\\n",
        "             round(i.get_height(), 2), ha='center', va='bottom', color='black')\n",
        "plt.ylim(0,1)\n",
        "plt.show()\n"
      ],
      "metadata": {
        "colab": {
          "base_uri": "https://localhost:8080/",
          "height": 448
        },
        "id": "pg-j0TfmsNju",
        "outputId": "6f4e2ff0-02aa-4c23-c315-8014cdba7f27"
      },
      "execution_count": 82,
      "outputs": [
        {
          "output_type": "display_data",
          "data": {
            "text/plain": [
              "<Figure size 1000x400 with 1 Axes>"
            ],
            "image/png": "[encoded data removed]"
          },
          "metadata": {}
        }
      ]
    },
    {
      "cell_type": "code",
      "source": [
        "# Data\n",
        "metrics_dict = {\n",
        "    'Bi-GRU': {'F1-Score': 0.6988852852917739},\n",
        "    'RoBERTa': {'F1-Score': 0.7227094970526254}\n",
        "}\n",
        "\n",
        "# Plotting\n",
        "metrics_df = pd.DataFrame.from_dict(metrics_dict, orient='index')\n",
        "\n",
        "ax = metrics_df.plot(kind='bar',y = \"F1-Score\", figsize=(10,4), color = ['blue',\"green\"],legend = False)\n",
        "plt.title('F1 Score for Model 1 and Model 2')\n",
        "plt.ylabel('Score')\n",
        "plt.xlabel('Metrics')\n",
        "plt.xticks(rotation=45)\n",
        "plt.grid(axis='y', linestyle='--', alpha=0.7)\n",
        "for i in ax.patches:\n",
        "    plt.text(i.get_x() + i.get_width() / 2, i.get_height() + 0.01, \\\n",
        "             round(i.get_height(), 2), ha='center', va='bottom', color='black')\n",
        "plt.ylim(0,1)\n",
        "plt.show()"
      ],
      "metadata": {
        "colab": {
          "base_uri": "https://localhost:8080/",
          "height": 448
        },
        "id": "CbWBbErqq2gc",
        "outputId": "25426320-c8eb-4af3-e051-edddc106aa36"
      },
      "execution_count": 86,
      "outputs": [
        {
          "output_type": "display_data",
          "data": {
            "text/plain": [
              "<Figure size 1000x400 with 1 Axes>"
            ],
            "image/png": "[encoded data removed]"
          },
          "metadata": {}
        }
      ]
    },
    {
      "cell_type": "markdown",
      "source": [
        "**Using Logistic Regression - Ensembling**"
      ],
      "metadata": {
        "id": "YGoRvrO9rl3A"
      }
    },
    {
      "cell_type": "code",
      "source": [
        "from sklearn.linear_model import LogisticRegression"
      ],
      "metadata": {
        "id": "icOVNQDjroFl"
      },
      "execution_count": 43,
      "outputs": []
    },
    {
      "cell_type": "code",
      "source": [
        "# Pad predictions_model1 to match the size of predictions_model2\n",
        "max_samples = max(len(predictions), len(predictions_model2))\n",
        "padded_predictions_model1 = np.pad(predictions, (0, max_samples - len(predictions)), mode='constant')\n",
        "\n",
        "# Combine padded predictions into a feature matrix\n",
        "combined_predictions = np.column_stack((padded_predictions_model1, predictions_model2))"
      ],
      "metadata": {
        "id": "IhbuSY3KrxfF"
      },
      "execution_count": 44,
      "outputs": []
    },
    {
      "cell_type": "code",
      "source": [
        "# Adjust target labels to match the size of combined_predictions\n",
        "y_valid_adjusted = np.pad(y_valid, (0, max_samples - len(y_valid)), mode='constant')\n",
        "\n",
        "# Train the meta-learner\n",
        "meta_learner = LogisticRegression()\n",
        "meta_learner.fit(combined_predictions, y_valid_adjusted)\n",
        "\n",
        "# Make predictions using the meta-learner\n",
        "meta_predictions = meta_learner.predict(combined_predictions)\n",
        "\n",
        "# Evaluate the performance of the meta-learner\n",
        "meta_accuracy = accuracy_score(y_valid_adjusted, meta_predictions)\n",
        "print(\"Meta-Learner Accuracy:\", meta_accuracy)"
      ],
      "metadata": {
        "colab": {
          "base_uri": "https://localhost:8080/"
        },
        "id": "20pA-GOproqF",
        "outputId": "6c003ff8-b75b-4b4a-f57f-c687189584a3"
      },
      "execution_count": 45,
      "outputs": [
        {
          "output_type": "stream",
          "name": "stdout",
          "text": [
            "Meta-Learner Accuracy: 0.7063655030800822\n"
          ]
        }
      ]
    },
    {
      "cell_type": "code",
      "source": [
        "meta_precision = precision_score(y_valid_adjusted, meta_predictions, average='weighted')\n",
        "meta_f1_score = f1_score(y_valid_adjusted, meta_predictions, average='weighted')\n",
        "\n",
        "# Print ensemble model metrics\n",
        "print(\"Precision:\", meta_precision)\n",
        "print(\"F1-Score:\", meta_f1_score)"
      ],
      "metadata": {
        "colab": {
          "base_uri": "https://localhost:8080/"
        },
        "id": "4D9ZF69ersGe",
        "outputId": "f16da59c-3bf4-4c97-f251-be4bfeca4bae"
      },
      "execution_count": 46,
      "outputs": [
        {
          "output_type": "stream",
          "name": "stdout",
          "text": [
            "Precision: 0.7152110392697145\n",
            "F1-Score: 0.7087311724888592\n"
          ]
        }
      ]
    },
    {
      "cell_type": "markdown",
      "source": [
        "**Using Gradient Boosting - Ensembling**"
      ],
      "metadata": {
        "id": "69dvFbV5zS6c"
      }
    },
    {
      "cell_type": "code",
      "source": [
        "from sklearn.ensemble import GradientBoostingClassifier\n",
        "\n",
        "# Train the meta-learner\n",
        "meta_learner = GradientBoostingClassifier()\n",
        "meta_learner.fit(combined_predictions, y_valid_adjusted)\n",
        "\n",
        "# Make predictions using the meta-learner\n",
        "meta_predictions = meta_learner.predict(combined_predictions)\n",
        "\n",
        "# Evaluate the performance of the meta-learner\n",
        "meta_accuracy = accuracy_score(y_valid_adjusted, meta_predictions)\n",
        "print(\"Meta-Learner Accuracy:\", meta_accuracy)\n",
        "\n",
        "# Calculate precision and F1-score for the ensemble model\n",
        "meta_precision = precision_score(y_valid_adjusted, meta_predictions, average='weighted')\n",
        "meta_f1_score = f1_score(y_valid_adjusted, meta_predictions, average='weighted')\n",
        "\n",
        "# Print ensemble model metrics\n",
        "print(\"Ensemble Model Metrics:\")\n",
        "print(\"Accuracy:\", meta_accuracy)\n",
        "print(\"Precision:\", meta_precision)\n",
        "print(\"F1-Score:\", meta_f1_score)"
      ],
      "metadata": {
        "colab": {
          "base_uri": "https://localhost:8080/"
        },
        "id": "k1FNOBqTsYg2",
        "outputId": "526cd516-51db-4540-d35d-07b4062acdf1"
      },
      "execution_count": 47,
      "outputs": [
        {
          "output_type": "stream",
          "name": "stdout",
          "text": [
            "Meta-Learner Accuracy: 0.8408624229979466\n",
            "Ensemble Model Metrics:\n",
            "Accuracy: 0.8408624229979466\n",
            "Precision: 0.8424246799016268\n",
            "F1-Score: 0.841335373877623\n"
          ]
        }
      ]
    },
    {
      "cell_type": "code",
      "source": [
        "# Data for plotting\n",
        "metrics_dict1 = {\n",
        "    'Bi-GRU': {'Accuracy': accu, 'Precision': pre, 'F1-Score': 0.7},\n",
        "    'RoBERTa': {'Accuracy': acc/100, 'Precision': precision_model2, 'F1-Score': f1_model2},\n",
        "    \"Logistic Regression\":{\"Accuracy\":0.7063655030800822,\"Precision\": 0.7152110392697145,\"F1-Score\":0.7087311724888592},\n",
        "    'Ensemble Model': {'Accuracy': meta_accuracy, 'Precision': meta_precision, 'F1-Score': meta_f1_score}\n",
        "}\n",
        "metrics_dict1"
      ],
      "metadata": {
        "colab": {
          "base_uri": "https://localhost:8080/"
        },
        "id": "OX077mkKHqMo",
        "outputId": "9e0064c8-701e-4224-d39d-507ddcb5818d"
      },
      "execution_count": 124,
      "outputs": [
        {
          "output_type": "execute_result",
          "data": {
            "text/plain": [
              "{'Bi-GRU': {'Accuracy': 0.6908977716624003,\n",
              "  'Precision': 0.6971773163144644,\n",
              "  'F1-Score': 0.7},\n",
              " 'RoBERTa': {'Accuracy': 0.7238193018480493,\n",
              "  'Precision': 0.7473538736306619,\n",
              "  'F1-Score': 0.7227094970526254},\n",
              " 'Logistic Regression': {'Accuracy': 0.7063655030800822,\n",
              "  'Precision': 0.7152110392697145,\n",
              "  'F1-Score': 0.7087311724888592},\n",
              " 'Ensemble Model': {'Accuracy': 0.8408624229979466,\n",
              "  'Precision': 0.8424246799016268,\n",
              "  'F1-Score': 0.841335373877623}}"
            ]
          },
          "metadata": {},
          "execution_count": 124
        }
      ]
    },
    {
      "cell_type": "code",
      "source": [
        "# Create DataFrame from dictionary\n",
        "metrics_df = pd.DataFrame.from_dict(metrics_dict1, orient='index')\n",
        "\n",
        "# Plotting\n",
        "plt.figure(figsize=(10, 6))\n",
        "ax = metrics_df[[\"Accuracy\"]].plot(kind='bar',y = \"Accuracy\", color=[\"blue\",'green',\"yellow\",'red'],legend = False)\n",
        "plt.title('Accuracy for Model 1, Model 2,Logistic Regression and Ensemble Model')\n",
        "plt.ylabel('Score')\n",
        "plt.xlabel('Models')\n",
        "plt.xticks(rotation=45)\n",
        "plt.grid(axis='y', linestyle='--', alpha=0.7)\n",
        "\n",
        "# Add F1-Score values on top of the bars\n",
        "for i in range(len(ax.patches)):\n",
        "    plt.text(ax.patches[i].get_x() + ax.patches[i].get_width() / 2, ax.patches[i].get_height() + 0.01, \\\n",
        "             round(ax.patches[i].get_height(), 2), ha='center', va='bottom', color='black')\n",
        "plt.ylim(0, 1)\n",
        "plt.tight_layout()\n",
        "plt.show()"
      ],
      "metadata": {
        "colab": {
          "base_uri": "https://localhost:8080/",
          "height": 504
        },
        "id": "NQoqJGf5Igzf",
        "outputId": "5c694f53-a2e4-402f-a808-55dda282a759"
      },
      "execution_count": 122,
      "outputs": [
        {
          "output_type": "display_data",
          "data": {
            "text/plain": [
              "<Figure size 1000x600 with 0 Axes>"
            ]
          },
          "metadata": {}
        },
        {
          "output_type": "display_data",
          "data": {
            "text/plain": [
              "<Figure size 640x480 with 1 Axes>"
            ],
            "image/png": "[encoded data removed]"
          },
          "metadata": {}
        }
      ]
    },
    {
      "cell_type": "code",
      "source": [
        "# Create DataFrame from dictionary\n",
        "metrics_df = pd.DataFrame.from_dict(metrics_dict1, orient='index')\n",
        "\n",
        "# Plotting\n",
        "plt.figure(figsize=(10, 6))\n",
        "ax = metrics_df[[\"Precision\"]].plot(kind='bar',y = \"Precision\", color=[\"blue\",'green',\"yellow\",'red'],legend = False)\n",
        "plt.title('Precision for Model 1, Model 2,Logistic Regression and Ensemble Model')\n",
        "plt.ylabel('Score')\n",
        "plt.xlabel('Models')\n",
        "plt.xticks(rotation=45)\n",
        "plt.grid(axis='y', linestyle='--', alpha=0.7)\n",
        "\n",
        "# Add F1-Score values on top of the bars\n",
        "for i in range(len(ax.patches)):\n",
        "    plt.text(ax.patches[i].get_x() + ax.patches[i].get_width() / 2, ax.patches[i].get_height() + 0.01, \\\n",
        "             round(ax.patches[i].get_height(), 2), ha='center', va='bottom', color='black')\n",
        "plt.ylim(0, 1)\n",
        "plt.tight_layout()\n",
        "plt.show()"
      ],
      "metadata": {
        "colab": {
          "base_uri": "https://localhost:8080/",
          "height": 504
        },
        "id": "ViZH0O0PIyZd",
        "outputId": "fc766591-f68e-4299-bce3-fab718e1c0c0"
      },
      "execution_count": 121,
      "outputs": [
        {
          "output_type": "display_data",
          "data": {
            "text/plain": [
              "<Figure size 1000x600 with 0 Axes>"
            ]
          },
          "metadata": {}
        },
        {
          "output_type": "display_data",
          "data": {
            "text/plain": [
              "<Figure size 640x480 with 1 Axes>"
            ],
            "image/png": "[encoded data removed]"
          },
          "metadata": {}
        }
      ]
    },
    {
      "cell_type": "code",
      "source": [
        "# Create DataFrame from dictionary\n",
        "metrics_df = pd.DataFrame.from_dict(metrics_dict1, orient='index')\n",
        "\n",
        "# Plotting\n",
        "plt.figure(figsize=(10, 6))\n",
        "ax = metrics_df[[\"F1-Score\"]].plot(kind='bar',y = \"F1-Score\", color=[\"blue\",'green',\"yellow\",'red'],legend = False)\n",
        "plt.title('F1-Score for Model 1, Model 2,Logistic Regression and Ensemble Model')\n",
        "plt.ylabel('Score')\n",
        "plt.xlabel('Models')\n",
        "plt.xticks(rotation=45)\n",
        "plt.grid(axis='y', linestyle='--', alpha=0.7)\n",
        "\n",
        "# Add F1-Score values on top of the bars\n",
        "for i in range(len(ax.patches)):\n",
        "    plt.text(ax.patches[i].get_x() + ax.patches[i].get_width() / 2, ax.patches[i].get_height() + 0.01, \\\n",
        "             round(ax.patches[i].get_height(), 2), ha='center', va='bottom', color='black')\n",
        "plt.ylim(0, 1)\n",
        "plt.tight_layout()\n",
        "plt.show()"
      ],
      "metadata": {
        "colab": {
          "base_uri": "https://localhost:8080/",
          "height": 504
        },
        "id": "i6yoNer1I4gV",
        "outputId": "5bdf8d7f-4b99-48d7-8557-2f0e4d9f24e6"
      },
      "execution_count": 125,
      "outputs": [
        {
          "output_type": "display_data",
          "data": {
            "text/plain": [
              "<Figure size 1000x600 with 0 Axes>"
            ]
          },
          "metadata": {}
        },
        {
          "output_type": "display_data",
          "data": {
            "text/plain": [
              "<Figure size 640x480 with 1 Axes>"
            ],
            "image/png": "[encoded data removed]"
          },
          "metadata": {}
        }
      ]
    },
    {
      "cell_type": "code",
      "source": [
        "# Data for plotting\n",
        "metrics_dict = {\n",
        "    'Bi-GRU': {'Accuracy': accu, 'Precision': pre, 'F1-Score': 0.7},\n",
        "    'RoBERTa': {'Accuracy': acc/100, 'Precision': precision_model2, 'F1-Score': f1_model2},\n",
        "    'Ensemble Model': {'Accuracy': meta_accuracy, 'Precision': meta_precision, 'F1-Score': meta_f1_score}\n",
        "}\n",
        "metrics_dict"
      ],
      "metadata": {
        "colab": {
          "base_uri": "https://localhost:8080/"
        },
        "id": "woEooLrKuUqf",
        "outputId": "1e1bab10-42fc-4da8-f8d7-98cab87b8129"
      },
      "execution_count": 109,
      "outputs": [
        {
          "output_type": "execute_result",
          "data": {
            "text/plain": [
              "{'Bi-GRU': {'Accuracy': 0.6908977716624003,\n",
              "  'Precision': 0.6971773163144644,\n",
              "  'F1-Score': 0.7},\n",
              " 'RoBERTa': {'Accuracy': 0.7238193018480493,\n",
              "  'Precision': 0.7473538736306619,\n",
              "  'F1-Score': 0.7227094970526254},\n",
              " 'Ensemble Model': {'Accuracy': 0.8408624229979466,\n",
              "  'Precision': 0.8424246799016268,\n",
              "  'F1-Score': 0.841335373877623}}"
            ]
          },
          "metadata": {},
          "execution_count": 109
        }
      ]
    },
    {
      "cell_type": "code",
      "source": [
        "# Create DataFrame from dictionary\n",
        "metrics_df = pd.DataFrame.from_dict(metrics_dict, orient='index')\n",
        "\n",
        "# Plotting\n",
        "plt.figure(figsize=(10, 6))\n",
        "ax = metrics_df[[\"Accuracy\"]].plot(kind='bar',y = \"Accuracy\", color=[\"blue\",'green','red'],legend = False)\n",
        "plt.title('Accuracy for Model 1, Model 2, and Ensemble Model')\n",
        "plt.ylabel('Score')\n",
        "plt.xlabel('Models')\n",
        "plt.xticks(rotation=45)\n",
        "plt.grid(axis='y', linestyle='--', alpha=0.7)\n",
        "\n",
        "# Add F1-Score values on top of the bars\n",
        "for i in range(len(ax.patches)):\n",
        "    plt.text(ax.patches[i].get_x() + ax.patches[i].get_width() / 2, ax.patches[i].get_height() + 0.01, \\\n",
        "             round(ax.patches[i].get_height(), 2), ha='center', va='bottom', color='black')\n",
        "plt.ylim(0, 1)\n",
        "plt.tight_layout()\n",
        "plt.show()"
      ],
      "metadata": {
        "colab": {
          "base_uri": "https://localhost:8080/",
          "height": 504
        },
        "id": "J0avn_MgAW0G",
        "outputId": "747b7f64-39b2-47e4-9d07-907ab5678417"
      },
      "execution_count": 112,
      "outputs": [
        {
          "output_type": "display_data",
          "data": {
            "text/plain": [
              "<Figure size 1000x600 with 0 Axes>"
            ]
          },
          "metadata": {}
        },
        {
          "output_type": "display_data",
          "data": {
            "text/plain": [
              "<Figure size 640x480 with 1 Axes>"
            ],
            "image/png": "[encoded data removed]"
          },
          "metadata": {}
        }
      ]
    },
    {
      "cell_type": "code",
      "source": [
        "# Create DataFrame from dictionary\n",
        "metrics_df = pd.DataFrame.from_dict(metrics_dict, orient='index')\n",
        "\n",
        "# Plotting\n",
        "plt.figure(figsize=(10, 6))\n",
        "ax = metrics_df[[\"Precision\"]].plot(kind='bar',y = \"Precision\", color=[\"blue\",'green','red'],legend = False)\n",
        "plt.title('Precision for Model 1, Model 2, and Ensemble Model')\n",
        "plt.ylabel('Score')\n",
        "plt.xlabel('Models')\n",
        "plt.xticks(rotation=45)\n",
        "plt.grid(axis='y', linestyle='--', alpha=0.7)\n",
        "\n",
        "# Add F1-Score values on top of the bars\n",
        "for i in range(len(ax.patches)):\n",
        "    plt.text(ax.patches[i].get_x() + ax.patches[i].get_width() / 2, ax.patches[i].get_height() + 0.01, \\\n",
        "             round(ax.patches[i].get_height(), 2), ha='center', va='bottom', color='black')\n",
        "plt.ylim(0, 1)\n",
        "plt.tight_layout()\n",
        "plt.show()"
      ],
      "metadata": {
        "colab": {
          "base_uri": "https://localhost:8080/",
          "height": 504
        },
        "id": "o2RPVcym9-pk",
        "outputId": "bf85fd75-01fb-4028-855f-b5fbf17011b5"
      },
      "execution_count": 104,
      "outputs": [
        {
          "output_type": "display_data",
          "data": {
            "text/plain": [
              "<Figure size 1000x600 with 0 Axes>"
            ]
          },
          "metadata": {}
        },
        {
          "output_type": "display_data",
          "data": {
            "text/plain": [
              "<Figure size 640x480 with 1 Axes>"
            ],
            "image/png": "[encoded data removed]"
          },
          "metadata": {}
        }
      ]
    },
    {
      "cell_type": "code",
      "source": [
        "# Create DataFrame from dictionary\n",
        "metrics_df = pd.DataFrame.from_dict(metrics_dict, orient='index')\n",
        "\n",
        "# Plotting\n",
        "plt.figure(figsize=(10, 6))\n",
        "ax = metrics_df[['F1-Score']].plot(kind='bar',y = \"F1-Score\", color=[\"blue\",'green','red'],legend = False)\n",
        "plt.title('F1 Score for Model 1, Model 2, and Ensemble Model')\n",
        "plt.ylabel('Score')\n",
        "plt.xlabel('Models')\n",
        "plt.xticks(rotation=45)\n",
        "plt.grid(axis='y', linestyle='--', alpha=0.7)\n",
        "\n",
        "# Add F1-Score values on top of the bars\n",
        "for i in range(len(ax.patches)):\n",
        "    plt.text(ax.patches[i].get_x() + ax.patches[i].get_width() / 2, ax.patches[i].get_height() + 0.01, \\\n",
        "             round(ax.patches[i].get_height(), 2), ha='center', va='bottom', color='black')\n",
        "plt.ylim(0, 1)\n",
        "plt.tight_layout()\n",
        "plt.show()"
      ],
      "metadata": {
        "colab": {
          "base_uri": "https://localhost:8080/",
          "height": 504
        },
        "id": "b6TQhOO01q6x",
        "outputId": "846eb249-d565-4d80-bf59-ac05107697e8"
      },
      "execution_count": 102,
      "outputs": [
        {
          "output_type": "display_data",
          "data": {
            "text/plain": [
              "<Figure size 1000x600 with 0 Axes>"
            ]
          },
          "metadata": {}
        },
        {
          "output_type": "display_data",
          "data": {
            "text/plain": [
              "<Figure size 640x480 with 1 Axes>"
            ],
            "image/png": "[encoded data removed]"
          },
          "metadata": {}
        }
      ]
    },
    {
      "cell_type": "code",
      "source": [
        "# Define the path where you want to save the model\n",
        "model1_path = '/content/drive/MyDrive/model1_bigru'\n",
        "\n",
        "# Save the model\n",
        "model1.save(model1_path)"
      ],
      "metadata": {
        "id": "IKL-oVAIzj-N"
      },
      "execution_count": 51,
      "outputs": []
    },
    {
      "cell_type": "code",
      "source": [
        "# Define the path where you want to save the model\n",
        "ensemble_model_path = '/content/drive/MyDrive/ensemble_model'\n",
        "\n",
        "from joblib import dump\n",
        "\n",
        "# Define the path where you want to save the model\n",
        "ensemble_model_path = '/content/drive/MyDrive/ensemble_model.joblib'\n",
        "\n",
        "# Save the model\n",
        "dump(meta_learner, ensemble_model_path)"
      ],
      "metadata": {
        "colab": {
          "base_uri": "https://localhost:8080/"
        },
        "id": "pjEUvtr-0sny",
        "outputId": "62ae1a88-726e-4cd9-c54a-8d567d11fc41"
      },
      "execution_count": 52,
      "outputs": [
        {
          "output_type": "execute_result",
          "data": {
            "text/plain": [
              "['/content/drive/MyDrive/ensemble_model.joblib']"
            ]
          },
          "metadata": {},
          "execution_count": 52
        }
      ]
    },
    {
      "cell_type": "code",
      "source": [],
      "metadata": {
        "id": "euJbMddd08UG"
      },
      "execution_count": 101,
      "outputs": []
    }
  ]
}